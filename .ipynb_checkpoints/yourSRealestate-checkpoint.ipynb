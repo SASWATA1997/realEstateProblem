{
 "cells": [
  {
   "cell_type": "markdown",
   "id": "e996ebb6",
   "metadata": {},
   "source": [
    "##  YourSRealEstate - Price Predictor"
   ]
  },
  {
   "cell_type": "code",
   "execution_count": 1,
   "id": "1b3c7f78",
   "metadata": {},
   "outputs": [],
   "source": [
    "import pandas as pd"
   ]
  },
  {
   "cell_type": "code",
   "execution_count": 2,
   "id": "0c1cae7e",
   "metadata": {},
   "outputs": [],
   "source": [
    "housing = pd.read_csv(\"dataSet.csv\")"
   ]
  },
  {
   "cell_type": "code",
   "execution_count": 3,
   "id": "a9995912",
   "metadata": {},
   "outputs": [
    {
     "data": {
      "text/html": [
       "<div>\n",
       "<style scoped>\n",
       "    .dataframe tbody tr th:only-of-type {\n",
       "        vertical-align: middle;\n",
       "    }\n",
       "\n",
       "    .dataframe tbody tr th {\n",
       "        vertical-align: top;\n",
       "    }\n",
       "\n",
       "    .dataframe thead th {\n",
       "        text-align: right;\n",
       "    }\n",
       "</style>\n",
       "<table border=\"1\" class=\"dataframe\">\n",
       "  <thead>\n",
       "    <tr style=\"text-align: right;\">\n",
       "      <th></th>\n",
       "      <th>CRIM</th>\n",
       "      <th>ZN</th>\n",
       "      <th>INDUS</th>\n",
       "      <th>CHAS</th>\n",
       "      <th>NOX</th>\n",
       "      <th>RM</th>\n",
       "      <th>AGE</th>\n",
       "      <th>DIS</th>\n",
       "      <th>RAD</th>\n",
       "      <th>TAX</th>\n",
       "      <th>PTRATIO</th>\n",
       "      <th>B</th>\n",
       "      <th>LSTAT</th>\n",
       "      <th>MEDV</th>\n",
       "    </tr>\n",
       "  </thead>\n",
       "  <tbody>\n",
       "    <tr>\n",
       "      <th>0</th>\n",
       "      <td>0.00632</td>\n",
       "      <td>18.0</td>\n",
       "      <td>2.31</td>\n",
       "      <td>0.0</td>\n",
       "      <td>0.538</td>\n",
       "      <td>6.575</td>\n",
       "      <td>65.2</td>\n",
       "      <td>4.0900</td>\n",
       "      <td>1</td>\n",
       "      <td>296.0</td>\n",
       "      <td>15.3</td>\n",
       "      <td>396.90</td>\n",
       "      <td>4.98</td>\n",
       "      <td>24.0</td>\n",
       "    </tr>\n",
       "    <tr>\n",
       "      <th>1</th>\n",
       "      <td>0.02731</td>\n",
       "      <td>0.0</td>\n",
       "      <td>7.07</td>\n",
       "      <td>0.0</td>\n",
       "      <td>0.469</td>\n",
       "      <td>6.421</td>\n",
       "      <td>78.9</td>\n",
       "      <td>4.9671</td>\n",
       "      <td>2</td>\n",
       "      <td>242.0</td>\n",
       "      <td>17.8</td>\n",
       "      <td>396.90</td>\n",
       "      <td>9.14</td>\n",
       "      <td>21.6</td>\n",
       "    </tr>\n",
       "    <tr>\n",
       "      <th>2</th>\n",
       "      <td>0.02729</td>\n",
       "      <td>0.0</td>\n",
       "      <td>7.07</td>\n",
       "      <td>0.0</td>\n",
       "      <td>0.469</td>\n",
       "      <td>7.185</td>\n",
       "      <td>61.1</td>\n",
       "      <td>4.9671</td>\n",
       "      <td>2</td>\n",
       "      <td>242.0</td>\n",
       "      <td>17.8</td>\n",
       "      <td>392.83</td>\n",
       "      <td>4.03</td>\n",
       "      <td>34.7</td>\n",
       "    </tr>\n",
       "    <tr>\n",
       "      <th>3</th>\n",
       "      <td>0.03237</td>\n",
       "      <td>0.0</td>\n",
       "      <td>2.18</td>\n",
       "      <td>0.0</td>\n",
       "      <td>0.458</td>\n",
       "      <td>6.998</td>\n",
       "      <td>45.8</td>\n",
       "      <td>6.0622</td>\n",
       "      <td>3</td>\n",
       "      <td>222.0</td>\n",
       "      <td>18.7</td>\n",
       "      <td>394.63</td>\n",
       "      <td>2.94</td>\n",
       "      <td>33.4</td>\n",
       "    </tr>\n",
       "    <tr>\n",
       "      <th>4</th>\n",
       "      <td>0.06905</td>\n",
       "      <td>0.0</td>\n",
       "      <td>2.18</td>\n",
       "      <td>0.0</td>\n",
       "      <td>0.458</td>\n",
       "      <td>7.147</td>\n",
       "      <td>54.2</td>\n",
       "      <td>6.0622</td>\n",
       "      <td>3</td>\n",
       "      <td>222.0</td>\n",
       "      <td>18.7</td>\n",
       "      <td>396.90</td>\n",
       "      <td>5.33</td>\n",
       "      <td>36.2</td>\n",
       "    </tr>\n",
       "  </tbody>\n",
       "</table>\n",
       "</div>"
      ],
      "text/plain": [
       "      CRIM    ZN  INDUS  CHAS    NOX     RM   AGE     DIS  RAD    TAX  \\\n",
       "0  0.00632  18.0   2.31   0.0  0.538  6.575  65.2  4.0900    1  296.0   \n",
       "1  0.02731   0.0   7.07   0.0  0.469  6.421  78.9  4.9671    2  242.0   \n",
       "2  0.02729   0.0   7.07   0.0  0.469  7.185  61.1  4.9671    2  242.0   \n",
       "3  0.03237   0.0   2.18   0.0  0.458  6.998  45.8  6.0622    3  222.0   \n",
       "4  0.06905   0.0   2.18   0.0  0.458  7.147  54.2  6.0622    3  222.0   \n",
       "\n",
       "   PTRATIO       B  LSTAT  MEDV  \n",
       "0     15.3  396.90   4.98  24.0  \n",
       "1     17.8  396.90   9.14  21.6  \n",
       "2     17.8  392.83   4.03  34.7  \n",
       "3     18.7  394.63   2.94  33.4  \n",
       "4     18.7  396.90   5.33  36.2  "
      ]
     },
     "execution_count": 3,
     "metadata": {},
     "output_type": "execute_result"
    }
   ],
   "source": [
    "housing.head()"
   ]
  },
  {
   "cell_type": "code",
   "execution_count": 4,
   "id": "d5172b09",
   "metadata": {},
   "outputs": [
    {
     "name": "stdout",
     "output_type": "stream",
     "text": [
      "<class 'pandas.core.frame.DataFrame'>\n",
      "RangeIndex: 507 entries, 0 to 506\n",
      "Data columns (total 14 columns):\n",
      " #   Column   Non-Null Count  Dtype  \n",
      "---  ------   --------------  -----  \n",
      " 0   CRIM     507 non-null    float64\n",
      " 1   ZN       507 non-null    float64\n",
      " 2   INDUS    507 non-null    float64\n",
      " 3   CHAS     507 non-null    float64\n",
      " 4   NOX      507 non-null    float64\n",
      " 5   RM       507 non-null    float64\n",
      " 6   AGE      507 non-null    float64\n",
      " 7   DIS      507 non-null    float64\n",
      " 8   RAD      507 non-null    int64  \n",
      " 9   TAX      507 non-null    float64\n",
      " 10  PTRATIO  507 non-null    float64\n",
      " 11  B        507 non-null    float64\n",
      " 12  LSTAT    507 non-null    float64\n",
      " 13  MEDV     507 non-null    float64\n",
      "dtypes: float64(13), int64(1)\n",
      "memory usage: 55.6 KB\n"
     ]
    }
   ],
   "source": [
    "housing.info()"
   ]
  },
  {
   "cell_type": "code",
   "execution_count": 5,
   "id": "8335084b",
   "metadata": {},
   "outputs": [
    {
     "data": {
      "text/plain": [
       "0.000    418\n",
       "1.000     35\n",
       "0.693      8\n",
       "0.740      7\n",
       "0.671      6\n",
       "0.700      6\n",
       "0.679      6\n",
       "0.597      5\n",
       "0.614      4\n",
       "0.668      2\n",
       "0.659      2\n",
       "0.718      2\n",
       "0.584      2\n",
       "0.580      2\n",
       "0.631      1\n",
       "0.713      1\n",
       "Name: CHAS, dtype: int64"
      ]
     },
     "execution_count": 5,
     "metadata": {},
     "output_type": "execute_result"
    }
   ],
   "source": [
    "housing['CHAS'].value_counts()"
   ]
  },
  {
   "cell_type": "code",
   "execution_count": 6,
   "id": "715bab5a",
   "metadata": {},
   "outputs": [
    {
     "data": {
      "text/html": [
       "<div>\n",
       "<style scoped>\n",
       "    .dataframe tbody tr th:only-of-type {\n",
       "        vertical-align: middle;\n",
       "    }\n",
       "\n",
       "    .dataframe tbody tr th {\n",
       "        vertical-align: top;\n",
       "    }\n",
       "\n",
       "    .dataframe thead th {\n",
       "        text-align: right;\n",
       "    }\n",
       "</style>\n",
       "<table border=\"1\" class=\"dataframe\">\n",
       "  <thead>\n",
       "    <tr style=\"text-align: right;\">\n",
       "      <th></th>\n",
       "      <th>CRIM</th>\n",
       "      <th>ZN</th>\n",
       "      <th>INDUS</th>\n",
       "      <th>CHAS</th>\n",
       "      <th>NOX</th>\n",
       "      <th>RM</th>\n",
       "      <th>AGE</th>\n",
       "      <th>DIS</th>\n",
       "      <th>RAD</th>\n",
       "      <th>TAX</th>\n",
       "      <th>PTRATIO</th>\n",
       "      <th>B</th>\n",
       "      <th>LSTAT</th>\n",
       "      <th>MEDV</th>\n",
       "    </tr>\n",
       "  </thead>\n",
       "  <tbody>\n",
       "    <tr>\n",
       "      <th>count</th>\n",
       "      <td>507.000000</td>\n",
       "      <td>507.000000</td>\n",
       "      <td>507.000000</td>\n",
       "      <td>507.000000</td>\n",
       "      <td>507.000000</td>\n",
       "      <td>507.000000</td>\n",
       "      <td>507.000000</td>\n",
       "      <td>507.000000</td>\n",
       "      <td>507.000000</td>\n",
       "      <td>507.000000</td>\n",
       "      <td>507.000000</td>\n",
       "      <td>507.000000</td>\n",
       "      <td>507.000000</td>\n",
       "      <td>507.000000</td>\n",
       "    </tr>\n",
       "    <tr>\n",
       "      <th>mean</th>\n",
       "      <td>1.266786</td>\n",
       "      <td>13.269034</td>\n",
       "      <td>9.210533</td>\n",
       "      <td>0.140487</td>\n",
       "      <td>1.100134</td>\n",
       "      <td>15.637986</td>\n",
       "      <td>58.788161</td>\n",
       "      <td>6.166073</td>\n",
       "      <td>77.911243</td>\n",
       "      <td>339.186982</td>\n",
       "      <td>42.572347</td>\n",
       "      <td>332.917554</td>\n",
       "      <td>11.530592</td>\n",
       "      <td>23.029389</td>\n",
       "    </tr>\n",
       "    <tr>\n",
       "      <th>std</th>\n",
       "      <td>2.397449</td>\n",
       "      <td>23.033480</td>\n",
       "      <td>7.163564</td>\n",
       "      <td>0.312519</td>\n",
       "      <td>1.645529</td>\n",
       "      <td>27.205462</td>\n",
       "      <td>33.085824</td>\n",
       "      <td>6.472083</td>\n",
       "      <td>203.369730</td>\n",
       "      <td>180.515490</td>\n",
       "      <td>87.503919</td>\n",
       "      <td>125.230928</td>\n",
       "      <td>6.061113</td>\n",
       "      <td>9.150454</td>\n",
       "    </tr>\n",
       "    <tr>\n",
       "      <th>min</th>\n",
       "      <td>0.000000</td>\n",
       "      <td>0.000000</td>\n",
       "      <td>0.000000</td>\n",
       "      <td>0.000000</td>\n",
       "      <td>0.385000</td>\n",
       "      <td>3.561000</td>\n",
       "      <td>1.137000</td>\n",
       "      <td>1.129600</td>\n",
       "      <td>1.000000</td>\n",
       "      <td>20.200000</td>\n",
       "      <td>2.600000</td>\n",
       "      <td>0.320000</td>\n",
       "      <td>1.730000</td>\n",
       "      <td>6.300000</td>\n",
       "    </tr>\n",
       "    <tr>\n",
       "      <th>25%</th>\n",
       "      <td>0.048755</td>\n",
       "      <td>0.000000</td>\n",
       "      <td>3.440000</td>\n",
       "      <td>0.000000</td>\n",
       "      <td>0.449000</td>\n",
       "      <td>5.951500</td>\n",
       "      <td>32.000000</td>\n",
       "      <td>2.431350</td>\n",
       "      <td>4.000000</td>\n",
       "      <td>254.000000</td>\n",
       "      <td>17.000000</td>\n",
       "      <td>365.380000</td>\n",
       "      <td>6.885000</td>\n",
       "      <td>17.200000</td>\n",
       "    </tr>\n",
       "    <tr>\n",
       "      <th>50%</th>\n",
       "      <td>0.144550</td>\n",
       "      <td>0.000000</td>\n",
       "      <td>6.960000</td>\n",
       "      <td>0.000000</td>\n",
       "      <td>0.538000</td>\n",
       "      <td>6.315000</td>\n",
       "      <td>65.300000</td>\n",
       "      <td>3.917500</td>\n",
       "      <td>5.000000</td>\n",
       "      <td>307.000000</td>\n",
       "      <td>18.900000</td>\n",
       "      <td>390.680000</td>\n",
       "      <td>10.360000</td>\n",
       "      <td>21.200000</td>\n",
       "    </tr>\n",
       "    <tr>\n",
       "      <th>75%</th>\n",
       "      <td>0.813985</td>\n",
       "      <td>18.100000</td>\n",
       "      <td>18.100000</td>\n",
       "      <td>0.000000</td>\n",
       "      <td>0.647000</td>\n",
       "      <td>6.947000</td>\n",
       "      <td>89.950000</td>\n",
       "      <td>6.328050</td>\n",
       "      <td>24.000000</td>\n",
       "      <td>403.000000</td>\n",
       "      <td>20.200000</td>\n",
       "      <td>395.620000</td>\n",
       "      <td>15.010000</td>\n",
       "      <td>25.000000</td>\n",
       "    </tr>\n",
       "    <tr>\n",
       "      <th>max</th>\n",
       "      <td>9.966540</td>\n",
       "      <td>100.000000</td>\n",
       "      <td>27.740000</td>\n",
       "      <td>1.000000</td>\n",
       "      <td>7.313000</td>\n",
       "      <td>100.000000</td>\n",
       "      <td>100.000000</td>\n",
       "      <td>24.000000</td>\n",
       "      <td>666.000000</td>\n",
       "      <td>711.000000</td>\n",
       "      <td>396.900000</td>\n",
       "      <td>396.900000</td>\n",
       "      <td>34.410000</td>\n",
       "      <td>50.000000</td>\n",
       "    </tr>\n",
       "  </tbody>\n",
       "</table>\n",
       "</div>"
      ],
      "text/plain": [
       "             CRIM          ZN       INDUS        CHAS         NOX          RM  \\\n",
       "count  507.000000  507.000000  507.000000  507.000000  507.000000  507.000000   \n",
       "mean     1.266786   13.269034    9.210533    0.140487    1.100134   15.637986   \n",
       "std      2.397449   23.033480    7.163564    0.312519    1.645529   27.205462   \n",
       "min      0.000000    0.000000    0.000000    0.000000    0.385000    3.561000   \n",
       "25%      0.048755    0.000000    3.440000    0.000000    0.449000    5.951500   \n",
       "50%      0.144550    0.000000    6.960000    0.000000    0.538000    6.315000   \n",
       "75%      0.813985   18.100000   18.100000    0.000000    0.647000    6.947000   \n",
       "max      9.966540  100.000000   27.740000    1.000000    7.313000  100.000000   \n",
       "\n",
       "              AGE         DIS         RAD         TAX     PTRATIO           B  \\\n",
       "count  507.000000  507.000000  507.000000  507.000000  507.000000  507.000000   \n",
       "mean    58.788161    6.166073   77.911243  339.186982   42.572347  332.917554   \n",
       "std     33.085824    6.472083  203.369730  180.515490   87.503919  125.230928   \n",
       "min      1.137000    1.129600    1.000000   20.200000    2.600000    0.320000   \n",
       "25%     32.000000    2.431350    4.000000  254.000000   17.000000  365.380000   \n",
       "50%     65.300000    3.917500    5.000000  307.000000   18.900000  390.680000   \n",
       "75%     89.950000    6.328050   24.000000  403.000000   20.200000  395.620000   \n",
       "max    100.000000   24.000000  666.000000  711.000000  396.900000  396.900000   \n",
       "\n",
       "            LSTAT        MEDV  \n",
       "count  507.000000  507.000000  \n",
       "mean    11.530592   23.029389  \n",
       "std      6.061113    9.150454  \n",
       "min      1.730000    6.300000  \n",
       "25%      6.885000   17.200000  \n",
       "50%     10.360000   21.200000  \n",
       "75%     15.010000   25.000000  \n",
       "max     34.410000   50.000000  "
      ]
     },
     "execution_count": 6,
     "metadata": {},
     "output_type": "execute_result"
    }
   ],
   "source": [
    "housing.describe()"
   ]
  },
  {
   "cell_type": "code",
   "execution_count": 7,
   "id": "b1bceb46",
   "metadata": {},
   "outputs": [],
   "source": [
    "%matplotlib inline"
   ]
  },
  {
   "cell_type": "code",
   "execution_count": 8,
   "id": "265bfb53",
   "metadata": {},
   "outputs": [],
   "source": [
    "import matplotlib.pyplot as plt"
   ]
  },
  {
   "cell_type": "code",
   "execution_count": 9,
   "id": "c66bc244",
   "metadata": {},
   "outputs": [
    {
     "data": {
      "text/plain": [
       "array([[<AxesSubplot:title={'center':'CRIM'}>,\n",
       "        <AxesSubplot:title={'center':'ZN'}>,\n",
       "        <AxesSubplot:title={'center':'INDUS'}>,\n",
       "        <AxesSubplot:title={'center':'CHAS'}>],\n",
       "       [<AxesSubplot:title={'center':'NOX'}>,\n",
       "        <AxesSubplot:title={'center':'RM'}>,\n",
       "        <AxesSubplot:title={'center':'AGE'}>,\n",
       "        <AxesSubplot:title={'center':'DIS'}>],\n",
       "       [<AxesSubplot:title={'center':'RAD'}>,\n",
       "        <AxesSubplot:title={'center':'TAX'}>,\n",
       "        <AxesSubplot:title={'center':'PTRATIO'}>,\n",
       "        <AxesSubplot:title={'center':'B'}>],\n",
       "       [<AxesSubplot:title={'center':'LSTAT'}>,\n",
       "        <AxesSubplot:title={'center':'MEDV'}>, <AxesSubplot:>,\n",
       "        <AxesSubplot:>]], dtype=object)"
      ]
     },
     "execution_count": 9,
     "metadata": {},
     "output_type": "execute_result"
    },
    {
     "data": {
      "image/png": "[encoded data removed]",
      "text/plain": [
       "<Figure size 1440x1080 with 16 Axes>"
      ]
     },
     "metadata": {
      "needs_background": "light"
     },
     "output_type": "display_data"
    }
   ],
   "source": [
    "housing.hist(bins=50, figsize=(20,15))"
   ]
  },
  {
   "cell_type": "markdown",
   "id": "02f5ab99",
   "metadata": {},
   "source": [
    "## Train-Test Spliting"
   ]
  },
  {
   "cell_type": "code",
   "execution_count": 10,
   "id": "5ba1b8d4",
   "metadata": {},
   "outputs": [],
   "source": [
    "import numpy as np\n",
    "def split_train_test(data,test_ratio):\n",
    "    np.random.seed(42)\n",
    "    shuffled = np.random.permutation(len(data))\n",
    "    test_set_size = int(len(data) * test_ratio)\n",
    "    test_indices = shuffled[:test_set_size]\n",
    "    train_indices = shuffled[test_set_size:]\n",
    "    return data.iloc[train_indices], data.iloc[test_indices]"
   ]
  },
  {
   "cell_type": "code",
   "execution_count": 11,
   "id": "36d49cc3",
   "metadata": {},
   "outputs": [],
   "source": [
    "train_set, test_set = split_train_test(housing, 0.2)"
   ]
  },
  {
   "cell_type": "code",
   "execution_count": 12,
   "id": "70cbd33d",
   "metadata": {},
   "outputs": [
    {
     "name": "stdout",
     "output_type": "stream",
     "text": [
      "Rows in train set: 406\n",
      " Rows in test set: 101\n",
      "\n"
     ]
    }
   ],
   "source": [
    "print(f\"Rows in train set: {len(train_set)}\\n Rows in test set: {len(test_set)}\\n\")"
   ]
  },
  {
   "cell_type": "code",
   "execution_count": 13,
   "id": "dfabf823",
   "metadata": {},
   "outputs": [
    {
     "name": "stdout",
     "output_type": "stream",
     "text": [
      "Rows in train set: 405\n",
      " Rows in test set: 102\n",
      "\n"
     ]
    }
   ],
   "source": [
    "from sklearn.model_selection import train_test_split\n",
    "train_set, test_set = train_test_split(housing,test_size=0.2,random_state=42)\n",
    "print(f\"Rows in train set: {len(train_set)}\\n Rows in test set: {len(test_set)}\\n\")"
   ]
  },
  {
   "cell_type": "code",
   "execution_count": 14,
   "id": "08baf9d4",
   "metadata": {},
   "outputs": [],
   "source": [
    "#usally used StratifiedShuffleSplit but in my case there is a problem as some value is less than 1 so i use only shufflesplit\n",
    "from sklearn.model_selection import ShuffleSplit\n",
    "split = ShuffleSplit(n_splits =1, test_size = 0.2, random_state=42)\n",
    "for train_index, test_index in split.split(housing, housing['CHAS']):\n",
    "    strat_train_set = housing.loc[train_index]\n",
    "    strat_test_set = housing.loc[test_index]"
   ]
  },
  {
   "cell_type": "code",
   "execution_count": 15,
   "id": "e2ad5ef7",
   "metadata": {},
   "outputs": [
    {
     "data": {
      "text/html": [
       "<div>\n",
       "<style scoped>\n",
       "    .dataframe tbody tr th:only-of-type {\n",
       "        vertical-align: middle;\n",
       "    }\n",
       "\n",
       "    .dataframe tbody tr th {\n",
       "        vertical-align: top;\n",
       "    }\n",
       "\n",
       "    .dataframe thead th {\n",
       "        text-align: right;\n",
       "    }\n",
       "</style>\n",
       "<table border=\"1\" class=\"dataframe\">\n",
       "  <thead>\n",
       "    <tr style=\"text-align: right;\">\n",
       "      <th></th>\n",
       "      <th>CRIM</th>\n",
       "      <th>ZN</th>\n",
       "      <th>INDUS</th>\n",
       "      <th>CHAS</th>\n",
       "      <th>NOX</th>\n",
       "      <th>RM</th>\n",
       "      <th>AGE</th>\n",
       "      <th>DIS</th>\n",
       "      <th>RAD</th>\n",
       "      <th>TAX</th>\n",
       "      <th>PTRATIO</th>\n",
       "      <th>B</th>\n",
       "      <th>LSTAT</th>\n",
       "      <th>MEDV</th>\n",
       "    </tr>\n",
       "  </thead>\n",
       "  <tbody>\n",
       "    <tr>\n",
       "      <th>173</th>\n",
       "      <td>0.09178</td>\n",
       "      <td>0.0</td>\n",
       "      <td>4.05</td>\n",
       "      <td>0.000</td>\n",
       "      <td>0.510</td>\n",
       "      <td>6.416</td>\n",
       "      <td>84.1000</td>\n",
       "      <td>2.6463</td>\n",
       "      <td>5</td>\n",
       "      <td>296.0</td>\n",
       "      <td>16.60</td>\n",
       "      <td>395.50</td>\n",
       "      <td>9.04</td>\n",
       "      <td>23.6</td>\n",
       "    </tr>\n",
       "    <tr>\n",
       "      <th>274</th>\n",
       "      <td>0.05644</td>\n",
       "      <td>40.0</td>\n",
       "      <td>6.41</td>\n",
       "      <td>1.000</td>\n",
       "      <td>0.447</td>\n",
       "      <td>6.758</td>\n",
       "      <td>32.9000</td>\n",
       "      <td>4.0776</td>\n",
       "      <td>4</td>\n",
       "      <td>254.0</td>\n",
       "      <td>17.60</td>\n",
       "      <td>396.90</td>\n",
       "      <td>3.53</td>\n",
       "      <td>32.4</td>\n",
       "    </tr>\n",
       "    <tr>\n",
       "      <th>492</th>\n",
       "      <td>0.11132</td>\n",
       "      <td>0.0</td>\n",
       "      <td>27.74</td>\n",
       "      <td>0.000</td>\n",
       "      <td>0.609</td>\n",
       "      <td>5.983</td>\n",
       "      <td>83.5000</td>\n",
       "      <td>2.1099</td>\n",
       "      <td>4</td>\n",
       "      <td>711.0</td>\n",
       "      <td>20.10</td>\n",
       "      <td>396.90</td>\n",
       "      <td>13.35</td>\n",
       "      <td>20.1</td>\n",
       "    </tr>\n",
       "    <tr>\n",
       "      <th>72</th>\n",
       "      <td>0.09164</td>\n",
       "      <td>0.0</td>\n",
       "      <td>10.81</td>\n",
       "      <td>0.000</td>\n",
       "      <td>0.413</td>\n",
       "      <td>6.065</td>\n",
       "      <td>7.8000</td>\n",
       "      <td>5.2873</td>\n",
       "      <td>4</td>\n",
       "      <td>305.0</td>\n",
       "      <td>19.20</td>\n",
       "      <td>390.91</td>\n",
       "      <td>5.52</td>\n",
       "      <td>22.8</td>\n",
       "    </tr>\n",
       "    <tr>\n",
       "      <th>453</th>\n",
       "      <td>8.24809</td>\n",
       "      <td>0.0</td>\n",
       "      <td>18.10</td>\n",
       "      <td>0.000</td>\n",
       "      <td>0.713</td>\n",
       "      <td>7.393</td>\n",
       "      <td>99.3000</td>\n",
       "      <td>2.4527</td>\n",
       "      <td>24</td>\n",
       "      <td>666.0</td>\n",
       "      <td>20.20</td>\n",
       "      <td>375.87</td>\n",
       "      <td>16.74</td>\n",
       "      <td>17.8</td>\n",
       "    </tr>\n",
       "    <tr>\n",
       "      <th>...</th>\n",
       "      <td>...</td>\n",
       "      <td>...</td>\n",
       "      <td>...</td>\n",
       "      <td>...</td>\n",
       "      <td>...</td>\n",
       "      <td>...</td>\n",
       "      <td>...</td>\n",
       "      <td>...</td>\n",
       "      <td>...</td>\n",
       "      <td>...</td>\n",
       "      <td>...</td>\n",
       "      <td>...</td>\n",
       "      <td>...</td>\n",
       "      <td>...</td>\n",
       "    </tr>\n",
       "    <tr>\n",
       "      <th>482</th>\n",
       "      <td>5.73116</td>\n",
       "      <td>0.0</td>\n",
       "      <td>18.10</td>\n",
       "      <td>0.000</td>\n",
       "      <td>0.532</td>\n",
       "      <td>7.061</td>\n",
       "      <td>77.0000</td>\n",
       "      <td>3.4106</td>\n",
       "      <td>24</td>\n",
       "      <td>666.0</td>\n",
       "      <td>20.20</td>\n",
       "      <td>395.28</td>\n",
       "      <td>7.01</td>\n",
       "      <td>25.0</td>\n",
       "    </tr>\n",
       "    <tr>\n",
       "      <th>437</th>\n",
       "      <td>0.00000</td>\n",
       "      <td>18.1</td>\n",
       "      <td>0.00</td>\n",
       "      <td>0.740</td>\n",
       "      <td>6.152</td>\n",
       "      <td>100.000</td>\n",
       "      <td>1.9142</td>\n",
       "      <td>24.0000</td>\n",
       "      <td>666</td>\n",
       "      <td>20.2</td>\n",
       "      <td>9.32</td>\n",
       "      <td>26.45</td>\n",
       "      <td>8.70</td>\n",
       "      <td>14.3</td>\n",
       "    </tr>\n",
       "    <tr>\n",
       "      <th>412</th>\n",
       "      <td>0.00000</td>\n",
       "      <td>18.1</td>\n",
       "      <td>0.00</td>\n",
       "      <td>0.597</td>\n",
       "      <td>4.628</td>\n",
       "      <td>100.000</td>\n",
       "      <td>1.5539</td>\n",
       "      <td>24.0000</td>\n",
       "      <td>666</td>\n",
       "      <td>20.2</td>\n",
       "      <td>28.79</td>\n",
       "      <td>34.37</td>\n",
       "      <td>17.90</td>\n",
       "      <td>17.2</td>\n",
       "    </tr>\n",
       "    <tr>\n",
       "      <th>86</th>\n",
       "      <td>0.05188</td>\n",
       "      <td>0.0</td>\n",
       "      <td>4.49</td>\n",
       "      <td>0.000</td>\n",
       "      <td>0.449</td>\n",
       "      <td>6.015</td>\n",
       "      <td>45.1000</td>\n",
       "      <td>4.4272</td>\n",
       "      <td>3</td>\n",
       "      <td>247.0</td>\n",
       "      <td>18.50</td>\n",
       "      <td>395.99</td>\n",
       "      <td>12.86</td>\n",
       "      <td>22.5</td>\n",
       "    </tr>\n",
       "    <tr>\n",
       "      <th>75</th>\n",
       "      <td>0.09512</td>\n",
       "      <td>0.0</td>\n",
       "      <td>12.83</td>\n",
       "      <td>0.000</td>\n",
       "      <td>0.437</td>\n",
       "      <td>6.286</td>\n",
       "      <td>45.0000</td>\n",
       "      <td>4.5026</td>\n",
       "      <td>5</td>\n",
       "      <td>398.0</td>\n",
       "      <td>18.70</td>\n",
       "      <td>383.23</td>\n",
       "      <td>8.94</td>\n",
       "      <td>21.4</td>\n",
       "    </tr>\n",
       "  </tbody>\n",
       "</table>\n",
       "<p>102 rows × 14 columns</p>\n",
       "</div>"
      ],
      "text/plain": [
       "        CRIM    ZN  INDUS   CHAS    NOX       RM      AGE      DIS  RAD  \\\n",
       "173  0.09178   0.0   4.05  0.000  0.510    6.416  84.1000   2.6463    5   \n",
       "274  0.05644  40.0   6.41  1.000  0.447    6.758  32.9000   4.0776    4   \n",
       "492  0.11132   0.0  27.74  0.000  0.609    5.983  83.5000   2.1099    4   \n",
       "72   0.09164   0.0  10.81  0.000  0.413    6.065   7.8000   5.2873    4   \n",
       "453  8.24809   0.0  18.10  0.000  0.713    7.393  99.3000   2.4527   24   \n",
       "..       ...   ...    ...    ...    ...      ...      ...      ...  ...   \n",
       "482  5.73116   0.0  18.10  0.000  0.532    7.061  77.0000   3.4106   24   \n",
       "437  0.00000  18.1   0.00  0.740  6.152  100.000   1.9142  24.0000  666   \n",
       "412  0.00000  18.1   0.00  0.597  4.628  100.000   1.5539  24.0000  666   \n",
       "86   0.05188   0.0   4.49  0.000  0.449    6.015  45.1000   4.4272    3   \n",
       "75   0.09512   0.0  12.83  0.000  0.437    6.286  45.0000   4.5026    5   \n",
       "\n",
       "       TAX  PTRATIO       B  LSTAT  MEDV  \n",
       "173  296.0    16.60  395.50   9.04  23.6  \n",
       "274  254.0    17.60  396.90   3.53  32.4  \n",
       "492  711.0    20.10  396.90  13.35  20.1  \n",
       "72   305.0    19.20  390.91   5.52  22.8  \n",
       "453  666.0    20.20  375.87  16.74  17.8  \n",
       "..     ...      ...     ...    ...   ...  \n",
       "482  666.0    20.20  395.28   7.01  25.0  \n",
       "437   20.2     9.32   26.45   8.70  14.3  \n",
       "412   20.2    28.79   34.37  17.90  17.2  \n",
       "86   247.0    18.50  395.99  12.86  22.5  \n",
       "75   398.0    18.70  383.23   8.94  21.4  \n",
       "\n",
       "[102 rows x 14 columns]"
      ]
     },
     "execution_count": 15,
     "metadata": {},
     "output_type": "execute_result"
    }
   ],
   "source": [
    "strat_test_set"
   ]
  },
  {
   "cell_type": "code",
   "execution_count": 16,
   "id": "9594b3d0",
   "metadata": {},
   "outputs": [
    {
     "data": {
      "text/html": [
       "<div>\n",
       "<style scoped>\n",
       "    .dataframe tbody tr th:only-of-type {\n",
       "        vertical-align: middle;\n",
       "    }\n",
       "\n",
       "    .dataframe tbody tr th {\n",
       "        vertical-align: top;\n",
       "    }\n",
       "\n",
       "    .dataframe thead th {\n",
       "        text-align: right;\n",
       "    }\n",
       "</style>\n",
       "<table border=\"1\" class=\"dataframe\">\n",
       "  <thead>\n",
       "    <tr style=\"text-align: right;\">\n",
       "      <th></th>\n",
       "      <th>CRIM</th>\n",
       "      <th>ZN</th>\n",
       "      <th>INDUS</th>\n",
       "      <th>CHAS</th>\n",
       "      <th>NOX</th>\n",
       "      <th>RM</th>\n",
       "      <th>AGE</th>\n",
       "      <th>DIS</th>\n",
       "      <th>RAD</th>\n",
       "      <th>TAX</th>\n",
       "      <th>PTRATIO</th>\n",
       "      <th>B</th>\n",
       "      <th>LSTAT</th>\n",
       "      <th>MEDV</th>\n",
       "    </tr>\n",
       "  </thead>\n",
       "  <tbody>\n",
       "    <tr>\n",
       "      <th>count</th>\n",
       "      <td>102.000000</td>\n",
       "      <td>102.000000</td>\n",
       "      <td>102.000000</td>\n",
       "      <td>102.000000</td>\n",
       "      <td>102.000000</td>\n",
       "      <td>102.000000</td>\n",
       "      <td>102.000000</td>\n",
       "      <td>102.000000</td>\n",
       "      <td>102.000000</td>\n",
       "      <td>102.000000</td>\n",
       "      <td>102.000000</td>\n",
       "      <td>102.000000</td>\n",
       "      <td>102.000000</td>\n",
       "      <td>102.000000</td>\n",
       "    </tr>\n",
       "    <tr>\n",
       "      <th>mean</th>\n",
       "      <td>1.592804</td>\n",
       "      <td>12.146078</td>\n",
       "      <td>10.162647</td>\n",
       "      <td>0.115539</td>\n",
       "      <td>1.015521</td>\n",
       "      <td>14.017451</td>\n",
       "      <td>59.664440</td>\n",
       "      <td>5.707459</td>\n",
       "      <td>66.911765</td>\n",
       "      <td>366.752941</td>\n",
       "      <td>34.586078</td>\n",
       "      <td>339.568137</td>\n",
       "      <td>12.383922</td>\n",
       "      <td>22.194118</td>\n",
       "    </tr>\n",
       "    <tr>\n",
       "      <th>std</th>\n",
       "      <td>2.837893</td>\n",
       "      <td>23.928878</td>\n",
       "      <td>7.163544</td>\n",
       "      <td>0.288058</td>\n",
       "      <td>1.571525</td>\n",
       "      <td>25.411868</td>\n",
       "      <td>32.308206</td>\n",
       "      <td>6.026669</td>\n",
       "      <td>187.464590</td>\n",
       "      <td>194.190779</td>\n",
       "      <td>68.637789</td>\n",
       "      <td>119.409171</td>\n",
       "      <td>6.105028</td>\n",
       "      <td>8.609790</td>\n",
       "    </tr>\n",
       "    <tr>\n",
       "      <th>min</th>\n",
       "      <td>0.000000</td>\n",
       "      <td>0.000000</td>\n",
       "      <td>0.000000</td>\n",
       "      <td>0.000000</td>\n",
       "      <td>0.392000</td>\n",
       "      <td>3.561000</td>\n",
       "      <td>1.316300</td>\n",
       "      <td>1.169100</td>\n",
       "      <td>1.000000</td>\n",
       "      <td>20.200000</td>\n",
       "      <td>9.320000</td>\n",
       "      <td>3.500000</td>\n",
       "      <td>2.880000</td>\n",
       "      <td>6.300000</td>\n",
       "    </tr>\n",
       "    <tr>\n",
       "      <th>25%</th>\n",
       "      <td>0.050912</td>\n",
       "      <td>0.000000</td>\n",
       "      <td>4.415000</td>\n",
       "      <td>0.000000</td>\n",
       "      <td>0.448250</td>\n",
       "      <td>5.919500</td>\n",
       "      <td>33.050000</td>\n",
       "      <td>2.459175</td>\n",
       "      <td>4.000000</td>\n",
       "      <td>257.250000</td>\n",
       "      <td>18.325000</td>\n",
       "      <td>367.307500</td>\n",
       "      <td>7.282500</td>\n",
       "      <td>17.250000</td>\n",
       "    </tr>\n",
       "    <tr>\n",
       "      <th>50%</th>\n",
       "      <td>0.137505</td>\n",
       "      <td>0.000000</td>\n",
       "      <td>8.350000</td>\n",
       "      <td>0.000000</td>\n",
       "      <td>0.532000</td>\n",
       "      <td>6.236000</td>\n",
       "      <td>67.800000</td>\n",
       "      <td>3.927000</td>\n",
       "      <td>5.000000</td>\n",
       "      <td>307.000000</td>\n",
       "      <td>19.200000</td>\n",
       "      <td>391.710000</td>\n",
       "      <td>12.115000</td>\n",
       "      <td>20.600000</td>\n",
       "    </tr>\n",
       "    <tr>\n",
       "      <th>75%</th>\n",
       "      <td>1.146493</td>\n",
       "      <td>18.100000</td>\n",
       "      <td>18.100000</td>\n",
       "      <td>0.000000</td>\n",
       "      <td>0.629250</td>\n",
       "      <td>6.589500</td>\n",
       "      <td>90.000000</td>\n",
       "      <td>5.276650</td>\n",
       "      <td>24.000000</td>\n",
       "      <td>437.000000</td>\n",
       "      <td>20.200000</td>\n",
       "      <td>396.900000</td>\n",
       "      <td>17.060000</td>\n",
       "      <td>24.175000</td>\n",
       "    </tr>\n",
       "    <tr>\n",
       "      <th>max</th>\n",
       "      <td>9.916550</td>\n",
       "      <td>95.000000</td>\n",
       "      <td>27.740000</td>\n",
       "      <td>1.000000</td>\n",
       "      <td>7.313000</td>\n",
       "      <td>100.000000</td>\n",
       "      <td>100.000000</td>\n",
       "      <td>24.000000</td>\n",
       "      <td>666.000000</td>\n",
       "      <td>711.000000</td>\n",
       "      <td>396.900000</td>\n",
       "      <td>396.900000</td>\n",
       "      <td>29.970000</td>\n",
       "      <td>50.000000</td>\n",
       "    </tr>\n",
       "  </tbody>\n",
       "</table>\n",
       "</div>"
      ],
      "text/plain": [
       "             CRIM          ZN       INDUS        CHAS         NOX          RM  \\\n",
       "count  102.000000  102.000000  102.000000  102.000000  102.000000  102.000000   \n",
       "mean     1.592804   12.146078   10.162647    0.115539    1.015521   14.017451   \n",
       "std      2.837893   23.928878    7.163544    0.288058    1.571525   25.411868   \n",
       "min      0.000000    0.000000    0.000000    0.000000    0.392000    3.561000   \n",
       "25%      0.050912    0.000000    4.415000    0.000000    0.448250    5.919500   \n",
       "50%      0.137505    0.000000    8.350000    0.000000    0.532000    6.236000   \n",
       "75%      1.146493   18.100000   18.100000    0.000000    0.629250    6.589500   \n",
       "max      9.916550   95.000000   27.740000    1.000000    7.313000  100.000000   \n",
       "\n",
       "              AGE         DIS         RAD         TAX     PTRATIO           B  \\\n",
       "count  102.000000  102.000000  102.000000  102.000000  102.000000  102.000000   \n",
       "mean    59.664440    5.707459   66.911765  366.752941   34.586078  339.568137   \n",
       "std     32.308206    6.026669  187.464590  194.190779   68.637789  119.409171   \n",
       "min      1.316300    1.169100    1.000000   20.200000    9.320000    3.500000   \n",
       "25%     33.050000    2.459175    4.000000  257.250000   18.325000  367.307500   \n",
       "50%     67.800000    3.927000    5.000000  307.000000   19.200000  391.710000   \n",
       "75%     90.000000    5.276650   24.000000  437.000000   20.200000  396.900000   \n",
       "max    100.000000   24.000000  666.000000  711.000000  396.900000  396.900000   \n",
       "\n",
       "            LSTAT        MEDV  \n",
       "count  102.000000  102.000000  \n",
       "mean    12.383922   22.194118  \n",
       "std      6.105028    8.609790  \n",
       "min      2.880000    6.300000  \n",
       "25%      7.282500   17.250000  \n",
       "50%     12.115000   20.600000  \n",
       "75%     17.060000   24.175000  \n",
       "max     29.970000   50.000000  "
      ]
     },
     "execution_count": 16,
     "metadata": {},
     "output_type": "execute_result"
    }
   ],
   "source": [
    "strat_test_set.describe()"
   ]
  },
  {
   "cell_type": "code",
   "execution_count": 17,
   "id": "fb29f63e",
   "metadata": {},
   "outputs": [
    {
     "data": {
      "text/plain": [
       "0.000    87\n",
       "1.000     6\n",
       "0.614     2\n",
       "0.597     2\n",
       "0.679     1\n",
       "0.671     1\n",
       "0.580     1\n",
       "0.693     1\n",
       "0.740     1\n",
       "Name: CHAS, dtype: int64"
      ]
     },
     "execution_count": 17,
     "metadata": {},
     "output_type": "execute_result"
    }
   ],
   "source": [
    "strat_test_set['CHAS'].value_counts()"
   ]
  },
  {
   "cell_type": "code",
   "execution_count": 18,
   "id": "d9b738f5",
   "metadata": {},
   "outputs": [],
   "source": [
    "# 87/6"
   ]
  },
  {
   "cell_type": "code",
   "execution_count": 19,
   "id": "6e98bac5",
   "metadata": {},
   "outputs": [],
   "source": [
    "housing = strat_train_set.copy()"
   ]
  },
  {
   "cell_type": "markdown",
   "id": "3f09b0e6",
   "metadata": {},
   "source": [
    "## looking for Correlations"
   ]
  },
  {
   "cell_type": "code",
   "execution_count": 20,
   "id": "225e1988",
   "metadata": {},
   "outputs": [],
   "source": [
    "corr_matrix = housing.corr()"
   ]
  },
  {
   "cell_type": "code",
   "execution_count": 21,
   "id": "d4665bce",
   "metadata": {},
   "outputs": [
    {
     "data": {
      "text/plain": [
       "MEDV       1.000000\n",
       "B          0.339739\n",
       "ZN         0.227254\n",
       "CHAS      -0.027686\n",
       "AGE       -0.036385\n",
       "TAX       -0.062546\n",
       "CRIM      -0.191999\n",
       "PTRATIO   -0.197084\n",
       "INDUS     -0.203179\n",
       "DIS       -0.210418\n",
       "RM        -0.233349\n",
       "RAD       -0.259971\n",
       "NOX       -0.279607\n",
       "LSTAT     -0.585628\n",
       "Name: MEDV, dtype: float64"
      ]
     },
     "execution_count": 21,
     "metadata": {},
     "output_type": "execute_result"
    }
   ],
   "source": [
    "corr_matrix['MEDV'].sort_values(ascending=False)"
   ]
  },
  {
   "cell_type": "code",
   "execution_count": 22,
   "id": "1083bf26",
   "metadata": {},
   "outputs": [
    {
     "data": {
      "text/plain": [
       "array([[<AxesSubplot:xlabel='MEDV', ylabel='MEDV'>,\n",
       "        <AxesSubplot:xlabel='RM', ylabel='MEDV'>,\n",
       "        <AxesSubplot:xlabel='ZN', ylabel='MEDV'>,\n",
       "        <AxesSubplot:xlabel='LSTAT', ylabel='MEDV'>],\n",
       "       [<AxesSubplot:xlabel='MEDV', ylabel='RM'>,\n",
       "        <AxesSubplot:xlabel='RM', ylabel='RM'>,\n",
       "        <AxesSubplot:xlabel='ZN', ylabel='RM'>,\n",
       "        <AxesSubplot:xlabel='LSTAT', ylabel='RM'>],\n",
       "       [<AxesSubplot:xlabel='MEDV', ylabel='ZN'>,\n",
       "        <AxesSubplot:xlabel='RM', ylabel='ZN'>,\n",
       "        <AxesSubplot:xlabel='ZN', ylabel='ZN'>,\n",
       "        <AxesSubplot:xlabel='LSTAT', ylabel='ZN'>],\n",
       "       [<AxesSubplot:xlabel='MEDV', ylabel='LSTAT'>,\n",
       "        <AxesSubplot:xlabel='RM', ylabel='LSTAT'>,\n",
       "        <AxesSubplot:xlabel='ZN', ylabel='LSTAT'>,\n",
       "        <AxesSubplot:xlabel='LSTAT', ylabel='LSTAT'>]], dtype=object)"
      ]
     },
     "execution_count": 22,
     "metadata": {},
     "output_type": "execute_result"
    },
    {
     "data": {
      "image/png": "[encoded data removed]",
      "text/plain": [
       "<Figure size 864x576 with 16 Axes>"
      ]
     },
     "metadata": {
      "needs_background": "light"
     },
     "output_type": "display_data"
    }
   ],
   "source": [
    "from pandas.plotting import scatter_matrix\n",
    "attribute = ['MEDV','RM','ZN', 'LSTAT']\n",
    "scatter_matrix(housing[attribute], figsize=(12,8))"
   ]
  },
  {
   "cell_type": "code",
   "execution_count": 23,
   "id": "cec0e193",
   "metadata": {},
   "outputs": [
    {
     "data": {
      "text/plain": [
       "<AxesSubplot:xlabel='RM', ylabel='MEDV'>"
      ]
     },
     "execution_count": 23,
     "metadata": {},
     "output_type": "execute_result"
    },
    {
     "data": {
      "image/png": "[encoded data removed]",
      "text/plain": [
       "<Figure size 432x288 with 1 Axes>"
      ]
     },
     "metadata": {
      "needs_background": "light"
     },
     "output_type": "display_data"
    }
   ],
   "source": [
    "housing.plot(kind=\"scatter\", x=\"RM\", y=\"MEDV\", alpha=0.8)"
   ]
  },
  {
   "cell_type": "markdown",
   "id": "14212d49",
   "metadata": {},
   "source": [
    "## Trying out Attribute Combination"
   ]
  },
  {
   "cell_type": "code",
   "execution_count": 24,
   "id": "86d0722e",
   "metadata": {},
   "outputs": [],
   "source": [
    "housing['TAXRM'] = housing['TAX'] / housing['RM']"
   ]
  },
  {
   "cell_type": "code",
   "execution_count": 25,
   "id": "ce15c606",
   "metadata": {},
   "outputs": [
    {
     "data": {
      "text/plain": [
       "444      0.209110\n",
       "15      52.622557\n",
       "332     50.406234\n",
       "390    116.576230\n",
       "19      53.605727\n",
       "          ...    \n",
       "106     65.798492\n",
       "270     38.080601\n",
       "348     42.200452\n",
       "435      0.213531\n",
       "102     59.953162\n",
       "Name: TAXRM, Length: 405, dtype: float64"
      ]
     },
     "execution_count": 25,
     "metadata": {},
     "output_type": "execute_result"
    }
   ],
   "source": [
    "housing['TAXRM']"
   ]
  },
  {
   "cell_type": "code",
   "execution_count": 26,
   "id": "60c3a539",
   "metadata": {},
   "outputs": [
    {
     "data": {
      "text/html": [
       "<div>\n",
       "<style scoped>\n",
       "    .dataframe tbody tr th:only-of-type {\n",
       "        vertical-align: middle;\n",
       "    }\n",
       "\n",
       "    .dataframe tbody tr th {\n",
       "        vertical-align: top;\n",
       "    }\n",
       "\n",
       "    .dataframe thead th {\n",
       "        text-align: right;\n",
       "    }\n",
       "</style>\n",
       "<table border=\"1\" class=\"dataframe\">\n",
       "  <thead>\n",
       "    <tr style=\"text-align: right;\">\n",
       "      <th></th>\n",
       "      <th>CRIM</th>\n",
       "      <th>ZN</th>\n",
       "      <th>INDUS</th>\n",
       "      <th>CHAS</th>\n",
       "      <th>NOX</th>\n",
       "      <th>RM</th>\n",
       "      <th>AGE</th>\n",
       "      <th>DIS</th>\n",
       "      <th>RAD</th>\n",
       "      <th>TAX</th>\n",
       "      <th>PTRATIO</th>\n",
       "      <th>B</th>\n",
       "      <th>LSTAT</th>\n",
       "      <th>MEDV</th>\n",
       "      <th>TAXRM</th>\n",
       "    </tr>\n",
       "  </thead>\n",
       "  <tbody>\n",
       "    <tr>\n",
       "      <th>444</th>\n",
       "      <td>0.00000</td>\n",
       "      <td>18.1</td>\n",
       "      <td>0.00</td>\n",
       "      <td>0.74</td>\n",
       "      <td>5.8540</td>\n",
       "      <td>96.600</td>\n",
       "      <td>1.8956</td>\n",
       "      <td>24.0000</td>\n",
       "      <td>666</td>\n",
       "      <td>20.2</td>\n",
       "      <td>240.52</td>\n",
       "      <td>23.79</td>\n",
       "      <td>10.80</td>\n",
       "      <td>15.4</td>\n",
       "      <td>0.209110</td>\n",
       "    </tr>\n",
       "    <tr>\n",
       "      <th>15</th>\n",
       "      <td>0.62739</td>\n",
       "      <td>0.0</td>\n",
       "      <td>8.14</td>\n",
       "      <td>0.00</td>\n",
       "      <td>0.5380</td>\n",
       "      <td>5.834</td>\n",
       "      <td>56.5000</td>\n",
       "      <td>4.4986</td>\n",
       "      <td>4</td>\n",
       "      <td>307.0</td>\n",
       "      <td>21.00</td>\n",
       "      <td>395.62</td>\n",
       "      <td>8.47</td>\n",
       "      <td>19.9</td>\n",
       "      <td>52.622557</td>\n",
       "    </tr>\n",
       "    <tr>\n",
       "      <th>332</th>\n",
       "      <td>0.03466</td>\n",
       "      <td>35.0</td>\n",
       "      <td>6.06</td>\n",
       "      <td>0.00</td>\n",
       "      <td>0.4379</td>\n",
       "      <td>6.031</td>\n",
       "      <td>23.3000</td>\n",
       "      <td>6.6407</td>\n",
       "      <td>1</td>\n",
       "      <td>304.0</td>\n",
       "      <td>16.90</td>\n",
       "      <td>362.25</td>\n",
       "      <td>7.83</td>\n",
       "      <td>19.4</td>\n",
       "      <td>50.406234</td>\n",
       "    </tr>\n",
       "    <tr>\n",
       "      <th>390</th>\n",
       "      <td>6.96215</td>\n",
       "      <td>0.0</td>\n",
       "      <td>18.10</td>\n",
       "      <td>0.00</td>\n",
       "      <td>0.7000</td>\n",
       "      <td>5.713</td>\n",
       "      <td>97.0000</td>\n",
       "      <td>1.9265</td>\n",
       "      <td>24</td>\n",
       "      <td>666.0</td>\n",
       "      <td>20.20</td>\n",
       "      <td>394.43</td>\n",
       "      <td>17.11</td>\n",
       "      <td>15.1</td>\n",
       "      <td>116.576230</td>\n",
       "    </tr>\n",
       "    <tr>\n",
       "      <th>19</th>\n",
       "      <td>0.72580</td>\n",
       "      <td>0.0</td>\n",
       "      <td>8.14</td>\n",
       "      <td>0.00</td>\n",
       "      <td>0.5380</td>\n",
       "      <td>5.727</td>\n",
       "      <td>69.5000</td>\n",
       "      <td>3.7965</td>\n",
       "      <td>4</td>\n",
       "      <td>307.0</td>\n",
       "      <td>21.00</td>\n",
       "      <td>390.95</td>\n",
       "      <td>11.28</td>\n",
       "      <td>18.2</td>\n",
       "      <td>53.605727</td>\n",
       "    </tr>\n",
       "  </tbody>\n",
       "</table>\n",
       "</div>"
      ],
      "text/plain": [
       "        CRIM    ZN  INDUS  CHAS     NOX      RM      AGE      DIS  RAD    TAX  \\\n",
       "444  0.00000  18.1   0.00  0.74  5.8540  96.600   1.8956  24.0000  666   20.2   \n",
       "15   0.62739   0.0   8.14  0.00  0.5380   5.834  56.5000   4.4986    4  307.0   \n",
       "332  0.03466  35.0   6.06  0.00  0.4379   6.031  23.3000   6.6407    1  304.0   \n",
       "390  6.96215   0.0  18.10  0.00  0.7000   5.713  97.0000   1.9265   24  666.0   \n",
       "19   0.72580   0.0   8.14  0.00  0.5380   5.727  69.5000   3.7965    4  307.0   \n",
       "\n",
       "     PTRATIO       B  LSTAT  MEDV       TAXRM  \n",
       "444   240.52   23.79  10.80  15.4    0.209110  \n",
       "15     21.00  395.62   8.47  19.9   52.622557  \n",
       "332    16.90  362.25   7.83  19.4   50.406234  \n",
       "390    20.20  394.43  17.11  15.1  116.576230  \n",
       "19     21.00  390.95  11.28  18.2   53.605727  "
      ]
     },
     "execution_count": 26,
     "metadata": {},
     "output_type": "execute_result"
    }
   ],
   "source": [
    "housing.head()"
   ]
  },
  {
   "cell_type": "code",
   "execution_count": 27,
   "id": "b7e75bd9",
   "metadata": {},
   "outputs": [
    {
     "data": {
      "text/plain": [
       "MEDV       1.000000\n",
       "B          0.339739\n",
       "ZN         0.227254\n",
       "CHAS      -0.027686\n",
       "AGE       -0.036385\n",
       "TAX       -0.062546\n",
       "TAXRM     -0.158912\n",
       "CRIM      -0.191999\n",
       "PTRATIO   -0.197084\n",
       "INDUS     -0.203179\n",
       "DIS       -0.210418\n",
       "RM        -0.233349\n",
       "RAD       -0.259971\n",
       "NOX       -0.279607\n",
       "LSTAT     -0.585628\n",
       "Name: MEDV, dtype: float64"
      ]
     },
     "execution_count": 27,
     "metadata": {},
     "output_type": "execute_result"
    }
   ],
   "source": [
    "corr_matrix = housing.corr()\n",
    "corr_matrix['MEDV'].sort_values(ascending=False)"
   ]
  },
  {
   "cell_type": "code",
   "execution_count": 28,
   "id": "7d989052",
   "metadata": {},
   "outputs": [
    {
     "data": {
      "text/plain": [
       "<AxesSubplot:xlabel='TAXRM', ylabel='MEDV'>"
      ]
     },
     "execution_count": 28,
     "metadata": {},
     "output_type": "execute_result"
    },
    {
     "data": {
      "image/png": "[encoded data removed]",
      "text/plain": [
       "<Figure size 432x288 with 1 Axes>"
      ]
     },
     "metadata": {
      "needs_background": "light"
     },
     "output_type": "display_data"
    }
   ],
   "source": [
    "housing.plot(kind=\"scatter\", x=\"TAXRM\", y=\"MEDV\", alpha=0.8)"
   ]
  },
  {
   "cell_type": "code",
   "execution_count": 29,
   "id": "9a207076",
   "metadata": {},
   "outputs": [],
   "source": [
    "housing = strat_train_set.drop(\"MEDV\", axis=1)\n",
    "housing_lables = strat_train_set[\"MEDV\"].copy()"
   ]
  },
  {
   "cell_type": "code",
   "execution_count": 30,
   "id": "73fa2469",
   "metadata": {},
   "outputs": [
    {
     "data": {
      "text/plain": [
       "444    15.4\n",
       "15     19.9\n",
       "332    19.4\n",
       "390    15.1\n",
       "19     18.2\n",
       "       ... \n",
       "106    19.5\n",
       "270    21.1\n",
       "348    24.5\n",
       "435    14.3\n",
       "102    18.6\n",
       "Name: MEDV, Length: 405, dtype: float64"
      ]
     },
     "execution_count": 30,
     "metadata": {},
     "output_type": "execute_result"
    }
   ],
   "source": [
    "housing_lables"
   ]
  },
  {
   "cell_type": "markdown",
   "id": "0641b9d3",
   "metadata": {},
   "source": [
    "## MIssig Attribute"
   ]
  },
  {
   "cell_type": "code",
   "execution_count": 31,
   "id": "63d1b3f4",
   "metadata": {},
   "outputs": [
    {
     "data": {
      "text/plain": [
       "(405, 13)"
      ]
     },
     "execution_count": 31,
     "metadata": {},
     "output_type": "execute_result"
    }
   ],
   "source": [
    "a = housing.dropna(subset=['RM']) #get rid of missing data point\n",
    "a.shape"
   ]
  },
  {
   "cell_type": "code",
   "execution_count": 32,
   "id": "ad5b3f6e",
   "metadata": {},
   "outputs": [
    {
     "data": {
      "text/plain": [
       "(405, 12)"
      ]
     },
     "execution_count": 32,
     "metadata": {},
     "output_type": "execute_result"
    }
   ],
   "source": [
    "b = housing.drop(\"RM\", axis=1) #get rid of whole attribute\n",
    "b.shape\n",
    "#original data frame remain unchanged"
   ]
  },
  {
   "cell_type": "code",
   "execution_count": 33,
   "id": "55403ec7",
   "metadata": {},
   "outputs": [],
   "source": [
    "median = housing[\"RM\"].median()"
   ]
  },
  {
   "cell_type": "code",
   "execution_count": 34,
   "id": "7c767f25",
   "metadata": {},
   "outputs": [
    {
     "data": {
      "text/plain": [
       "444    96.600\n",
       "15      5.834\n",
       "332     6.031\n",
       "390     5.713\n",
       "19      5.727\n",
       "        ...  \n",
       "106     5.836\n",
       "270     5.856\n",
       "348     6.635\n",
       "435    94.600\n",
       "102     6.405\n",
       "Name: RM, Length: 405, dtype: float64"
      ]
     },
     "execution_count": 34,
     "metadata": {},
     "output_type": "execute_result"
    }
   ],
   "source": [
    "housing[\"RM\"].fillna(median) #set the value to some value(0,mean or median)"
   ]
  },
  {
   "cell_type": "code",
   "execution_count": 35,
   "id": "1a39caf9",
   "metadata": {},
   "outputs": [
    {
     "data": {
      "text/plain": [
       "(405, 13)"
      ]
     },
     "execution_count": 35,
     "metadata": {},
     "output_type": "execute_result"
    }
   ],
   "source": [
    "housing.shape"
   ]
  },
  {
   "cell_type": "code",
   "execution_count": 36,
   "id": "6805fd7a",
   "metadata": {},
   "outputs": [
    {
     "data": {
      "text/html": [
       "<div>\n",
       "<style scoped>\n",
       "    .dataframe tbody tr th:only-of-type {\n",
       "        vertical-align: middle;\n",
       "    }\n",
       "\n",
       "    .dataframe tbody tr th {\n",
       "        vertical-align: top;\n",
       "    }\n",
       "\n",
       "    .dataframe thead th {\n",
       "        text-align: right;\n",
       "    }\n",
       "</style>\n",
       "<table border=\"1\" class=\"dataframe\">\n",
       "  <thead>\n",
       "    <tr style=\"text-align: right;\">\n",
       "      <th></th>\n",
       "      <th>CRIM</th>\n",
       "      <th>ZN</th>\n",
       "      <th>INDUS</th>\n",
       "      <th>CHAS</th>\n",
       "      <th>NOX</th>\n",
       "      <th>RM</th>\n",
       "      <th>AGE</th>\n",
       "      <th>DIS</th>\n",
       "      <th>RAD</th>\n",
       "      <th>TAX</th>\n",
       "      <th>PTRATIO</th>\n",
       "      <th>B</th>\n",
       "      <th>LSTAT</th>\n",
       "    </tr>\n",
       "  </thead>\n",
       "  <tbody>\n",
       "    <tr>\n",
       "      <th>count</th>\n",
       "      <td>405.000000</td>\n",
       "      <td>405.000000</td>\n",
       "      <td>405.000000</td>\n",
       "      <td>405.000000</td>\n",
       "      <td>405.000000</td>\n",
       "      <td>405.000000</td>\n",
       "      <td>405.000000</td>\n",
       "      <td>405.000000</td>\n",
       "      <td>405.000000</td>\n",
       "      <td>405.000000</td>\n",
       "      <td>405.000000</td>\n",
       "      <td>405.000000</td>\n",
       "      <td>405.000000</td>\n",
       "    </tr>\n",
       "    <tr>\n",
       "      <th>mean</th>\n",
       "      <td>1.184677</td>\n",
       "      <td>13.551852</td>\n",
       "      <td>8.970741</td>\n",
       "      <td>0.146770</td>\n",
       "      <td>1.121443</td>\n",
       "      <td>16.046121</td>\n",
       "      <td>58.567469</td>\n",
       "      <td>6.281575</td>\n",
       "      <td>80.681481</td>\n",
       "      <td>332.244444</td>\n",
       "      <td>44.583704</td>\n",
       "      <td>331.242593</td>\n",
       "      <td>11.315679</td>\n",
       "    </tr>\n",
       "    <tr>\n",
       "      <th>std</th>\n",
       "      <td>2.269786</td>\n",
       "      <td>22.824183</td>\n",
       "      <td>7.152428</td>\n",
       "      <td>0.318411</td>\n",
       "      <td>1.664850</td>\n",
       "      <td>27.653800</td>\n",
       "      <td>33.314434</td>\n",
       "      <td>6.581553</td>\n",
       "      <td>207.310034</td>\n",
       "      <td>176.480243</td>\n",
       "      <td>91.608829</td>\n",
       "      <td>126.742588</td>\n",
       "      <td>6.038569</td>\n",
       "    </tr>\n",
       "    <tr>\n",
       "      <th>min</th>\n",
       "      <td>0.000000</td>\n",
       "      <td>0.000000</td>\n",
       "      <td>0.000000</td>\n",
       "      <td>0.000000</td>\n",
       "      <td>0.385000</td>\n",
       "      <td>4.004000</td>\n",
       "      <td>1.137000</td>\n",
       "      <td>1.129600</td>\n",
       "      <td>1.000000</td>\n",
       "      <td>20.200000</td>\n",
       "      <td>2.600000</td>\n",
       "      <td>0.320000</td>\n",
       "      <td>1.730000</td>\n",
       "    </tr>\n",
       "    <tr>\n",
       "      <th>25%</th>\n",
       "      <td>0.047410</td>\n",
       "      <td>0.000000</td>\n",
       "      <td>3.410000</td>\n",
       "      <td>0.000000</td>\n",
       "      <td>0.453000</td>\n",
       "      <td>5.963000</td>\n",
       "      <td>31.100000</td>\n",
       "      <td>2.425900</td>\n",
       "      <td>4.000000</td>\n",
       "      <td>252.000000</td>\n",
       "      <td>16.800000</td>\n",
       "      <td>364.310000</td>\n",
       "      <td>6.680000</td>\n",
       "    </tr>\n",
       "    <tr>\n",
       "      <th>50%</th>\n",
       "      <td>0.148660</td>\n",
       "      <td>0.000000</td>\n",
       "      <td>6.910000</td>\n",
       "      <td>0.000000</td>\n",
       "      <td>0.538000</td>\n",
       "      <td>6.333000</td>\n",
       "      <td>64.700000</td>\n",
       "      <td>3.917500</td>\n",
       "      <td>5.000000</td>\n",
       "      <td>307.000000</td>\n",
       "      <td>18.600000</td>\n",
       "      <td>390.430000</td>\n",
       "      <td>10.210000</td>\n",
       "    </tr>\n",
       "    <tr>\n",
       "      <th>75%</th>\n",
       "      <td>0.785700</td>\n",
       "      <td>20.000000</td>\n",
       "      <td>18.100000</td>\n",
       "      <td>0.000000</td>\n",
       "      <td>0.647000</td>\n",
       "      <td>6.982000</td>\n",
       "      <td>89.800000</td>\n",
       "      <td>6.465400</td>\n",
       "      <td>8.000000</td>\n",
       "      <td>403.000000</td>\n",
       "      <td>20.200000</td>\n",
       "      <td>395.430000</td>\n",
       "      <td>14.700000</td>\n",
       "    </tr>\n",
       "    <tr>\n",
       "      <th>max</th>\n",
       "      <td>9.966540</td>\n",
       "      <td>100.000000</td>\n",
       "      <td>27.740000</td>\n",
       "      <td>1.000000</td>\n",
       "      <td>6.968000</td>\n",
       "      <td>100.000000</td>\n",
       "      <td>100.000000</td>\n",
       "      <td>24.000000</td>\n",
       "      <td>666.000000</td>\n",
       "      <td>711.000000</td>\n",
       "      <td>396.900000</td>\n",
       "      <td>396.900000</td>\n",
       "      <td>34.410000</td>\n",
       "    </tr>\n",
       "  </tbody>\n",
       "</table>\n",
       "</div>"
      ],
      "text/plain": [
       "             CRIM          ZN       INDUS        CHAS         NOX          RM  \\\n",
       "count  405.000000  405.000000  405.000000  405.000000  405.000000  405.000000   \n",
       "mean     1.184677   13.551852    8.970741    0.146770    1.121443   16.046121   \n",
       "std      2.269786   22.824183    7.152428    0.318411    1.664850   27.653800   \n",
       "min      0.000000    0.000000    0.000000    0.000000    0.385000    4.004000   \n",
       "25%      0.047410    0.000000    3.410000    0.000000    0.453000    5.963000   \n",
       "50%      0.148660    0.000000    6.910000    0.000000    0.538000    6.333000   \n",
       "75%      0.785700   20.000000   18.100000    0.000000    0.647000    6.982000   \n",
       "max      9.966540  100.000000   27.740000    1.000000    6.968000  100.000000   \n",
       "\n",
       "              AGE         DIS         RAD         TAX     PTRATIO           B  \\\n",
       "count  405.000000  405.000000  405.000000  405.000000  405.000000  405.000000   \n",
       "mean    58.567469    6.281575   80.681481  332.244444   44.583704  331.242593   \n",
       "std     33.314434    6.581553  207.310034  176.480243   91.608829  126.742588   \n",
       "min      1.137000    1.129600    1.000000   20.200000    2.600000    0.320000   \n",
       "25%     31.100000    2.425900    4.000000  252.000000   16.800000  364.310000   \n",
       "50%     64.700000    3.917500    5.000000  307.000000   18.600000  390.430000   \n",
       "75%     89.800000    6.465400    8.000000  403.000000   20.200000  395.430000   \n",
       "max    100.000000   24.000000  666.000000  711.000000  396.900000  396.900000   \n",
       "\n",
       "            LSTAT  \n",
       "count  405.000000  \n",
       "mean    11.315679  \n",
       "std      6.038569  \n",
       "min      1.730000  \n",
       "25%      6.680000  \n",
       "50%     10.210000  \n",
       "75%     14.700000  \n",
       "max     34.410000  "
      ]
     },
     "execution_count": 36,
     "metadata": {},
     "output_type": "execute_result"
    }
   ],
   "source": [
    "housing.describe() #before starting filling missing attribute"
   ]
  },
  {
   "cell_type": "code",
   "execution_count": 37,
   "id": "fb3f393f",
   "metadata": {},
   "outputs": [
    {
     "data": {
      "text/html": [
       "<style>#sk-container-id-1 {color: black;background-color: white;}#sk-container-id-1 pre{padding: 0;}#sk-container-id-1 div.sk-toggleable {background-color: white;}#sk-container-id-1 label.sk-toggleable__label {cursor: pointer;display: block;width: 100%;margin-bottom: 0;padding: 0.3em;box-sizing: border-box;text-align: center;}#sk-container-id-1 label.sk-toggleable__label-arrow:before {content: \"▸\";float: left;margin-right: 0.25em;color: #696969;}#sk-container-id-1 label.sk-toggleable__label-arrow:hover:before {color: black;}#sk-container-id-1 div.sk-estimator:hover label.sk-toggleable__label-arrow:before {color: black;}#sk-container-id-1 div.sk-toggleable__content {max-height: 0;max-width: 0;overflow: hidden;text-align: left;background-color: #f0f8ff;}#sk-container-id-1 div.sk-toggleable__content pre {margin: 0.2em;color: black;border-radius: 0.25em;background-color: #f0f8ff;}#sk-container-id-1 input.sk-toggleable__control:checked~div.sk-toggleable__content {max-height: 200px;max-width: 100%;overflow: auto;}#sk-container-id-1 input.sk-toggleable__control:checked~label.sk-toggleable__label-arrow:before {content: \"▾\";}#sk-container-id-1 div.sk-estimator input.sk-toggleable__control:checked~label.sk-toggleable__label {background-color: #d4ebff;}#sk-container-id-1 div.sk-label input.sk-toggleable__control:checked~label.sk-toggleable__label {background-color: #d4ebff;}#sk-container-id-1 input.sk-hidden--visually {border: 0;clip: rect(1px 1px 1px 1px);clip: rect(1px, 1px, 1px, 1px);height: 1px;margin: -1px;overflow: hidden;padding: 0;position: absolute;width: 1px;}#sk-container-id-1 div.sk-estimator {font-family: monospace;background-color: #f0f8ff;border: 1px dotted black;border-radius: 0.25em;box-sizing: border-box;margin-bottom: 0.5em;}#sk-container-id-1 div.sk-estimator:hover {background-color: #d4ebff;}#sk-container-id-1 div.sk-parallel-item::after {content: \"\";width: 100%;border-bottom: 1px solid gray;flex-grow: 1;}#sk-container-id-1 div.sk-label:hover label.sk-toggleable__label {background-color: #d4ebff;}#sk-container-id-1 div.sk-serial::before {content: \"\";position: absolute;border-left: 1px solid gray;box-sizing: border-box;top: 0;bottom: 0;left: 50%;z-index: 0;}#sk-container-id-1 div.sk-serial {display: flex;flex-direction: column;align-items: center;background-color: white;padding-right: 0.2em;padding-left: 0.2em;position: relative;}#sk-container-id-1 div.sk-item {position: relative;z-index: 1;}#sk-container-id-1 div.sk-parallel {display: flex;align-items: stretch;justify-content: center;background-color: white;position: relative;}#sk-container-id-1 div.sk-item::before, #sk-container-id-1 div.sk-parallel-item::before {content: \"\";position: absolute;border-left: 1px solid gray;box-sizing: border-box;top: 0;bottom: 0;left: 50%;z-index: -1;}#sk-container-id-1 div.sk-parallel-item {display: flex;flex-direction: column;z-index: 1;position: relative;background-color: white;}#sk-container-id-1 div.sk-parallel-item:first-child::after {align-self: flex-end;width: 50%;}#sk-container-id-1 div.sk-parallel-item:last-child::after {align-self: flex-start;width: 50%;}#sk-container-id-1 div.sk-parallel-item:only-child::after {width: 0;}#sk-container-id-1 div.sk-dashed-wrapped {border: 1px dashed gray;margin: 0 0.4em 0.5em 0.4em;box-sizing: border-box;padding-bottom: 0.4em;background-color: white;}#sk-container-id-1 div.sk-label label {font-family: monospace;font-weight: bold;display: inline-block;line-height: 1.2em;}#sk-container-id-1 div.sk-label-container {text-align: center;}#sk-container-id-1 div.sk-container {/* jupyter's `normalize.less` sets `[hidden] { display: none; }` but bootstrap.min.css set `[hidden] { display: none !important; }` so we also need the `!important` here to be able to override the default hidden behavior on the sphinx rendered scikit-learn.org. See: https://github.com/scikit-learn/scikit-learn/issues/21755 */display: inline-block !important;position: relative;}#sk-container-id-1 div.sk-text-repr-fallback {display: none;}</style><div id=\"sk-container-id-1\" class=\"sk-top-container\"><div class=\"sk-text-repr-fallback\"><pre>SimpleImputer(strategy=&#x27;median&#x27;)</pre><b>In a Jupyter environment, please rerun this cell to show the HTML representation or trust the notebook. <br />On GitHub, the HTML representation is unable to render, please try loading this page with nbviewer.org.</b></div><div class=\"sk-container\" hidden><div class=\"sk-item\"><div class=\"sk-estimator sk-toggleable\"><input class=\"sk-toggleable__control sk-hidden--visually\" id=\"sk-estimator-id-1\" type=\"checkbox\" checked><label for=\"sk-estimator-id-1\" class=\"sk-toggleable__label sk-toggleable__label-arrow\">SimpleImputer</label><div class=\"sk-toggleable__content\"><pre>SimpleImputer(strategy=&#x27;median&#x27;)</pre></div></div></div></div></div>"
      ],
      "text/plain": [
       "SimpleImputer(strategy='median')"
      ]
     },
     "execution_count": 37,
     "metadata": {},
     "output_type": "execute_result"
    }
   ],
   "source": [
    "from sklearn.impute import SimpleImputer\n",
    "\n",
    "imputer = SimpleImputer(strategy=\"median\")\n",
    "imputer.fit(housing)"
   ]
  },
  {
   "cell_type": "code",
   "execution_count": 38,
   "id": "7304e12b",
   "metadata": {},
   "outputs": [
    {
     "data": {
      "text/plain": [
       "array([1.4866e-01, 0.0000e+00, 6.9100e+00, 0.0000e+00, 5.3800e-01,\n",
       "       6.3330e+00, 6.4700e+01, 3.9175e+00, 5.0000e+00, 3.0700e+02,\n",
       "       1.8600e+01, 3.9043e+02, 1.0210e+01])"
      ]
     },
     "execution_count": 38,
     "metadata": {},
     "output_type": "execute_result"
    }
   ],
   "source": [
    "imputer.statistics_"
   ]
  },
  {
   "cell_type": "code",
   "execution_count": 39,
   "id": "41afc0b9",
   "metadata": {},
   "outputs": [
    {
     "data": {
      "text/plain": [
       "(13,)"
      ]
     },
     "execution_count": 39,
     "metadata": {},
     "output_type": "execute_result"
    }
   ],
   "source": [
    "imputer.statistics_.shape"
   ]
  },
  {
   "cell_type": "code",
   "execution_count": 40,
   "id": "75f40099",
   "metadata": {},
   "outputs": [],
   "source": [
    "x = imputer.transform(housing)"
   ]
  },
  {
   "cell_type": "code",
   "execution_count": 41,
   "id": "8659258f",
   "metadata": {},
   "outputs": [],
   "source": [
    "housing_tr = pd.DataFrame(x, columns= housing.columns)"
   ]
  },
  {
   "cell_type": "code",
   "execution_count": 42,
   "id": "2270c9e5",
   "metadata": {},
   "outputs": [
    {
     "data": {
      "text/html": [
       "<div>\n",
       "<style scoped>\n",
       "    .dataframe tbody tr th:only-of-type {\n",
       "        vertical-align: middle;\n",
       "    }\n",
       "\n",
       "    .dataframe tbody tr th {\n",
       "        vertical-align: top;\n",
       "    }\n",
       "\n",
       "    .dataframe thead th {\n",
       "        text-align: right;\n",
       "    }\n",
       "</style>\n",
       "<table border=\"1\" class=\"dataframe\">\n",
       "  <thead>\n",
       "    <tr style=\"text-align: right;\">\n",
       "      <th></th>\n",
       "      <th>CRIM</th>\n",
       "      <th>ZN</th>\n",
       "      <th>INDUS</th>\n",
       "      <th>CHAS</th>\n",
       "      <th>NOX</th>\n",
       "      <th>RM</th>\n",
       "      <th>AGE</th>\n",
       "      <th>DIS</th>\n",
       "      <th>RAD</th>\n",
       "      <th>TAX</th>\n",
       "      <th>PTRATIO</th>\n",
       "      <th>B</th>\n",
       "      <th>LSTAT</th>\n",
       "    </tr>\n",
       "  </thead>\n",
       "  <tbody>\n",
       "    <tr>\n",
       "      <th>count</th>\n",
       "      <td>405.000000</td>\n",
       "      <td>405.000000</td>\n",
       "      <td>405.000000</td>\n",
       "      <td>405.000000</td>\n",
       "      <td>405.000000</td>\n",
       "      <td>405.000000</td>\n",
       "      <td>405.000000</td>\n",
       "      <td>405.000000</td>\n",
       "      <td>405.000000</td>\n",
       "      <td>405.000000</td>\n",
       "      <td>405.000000</td>\n",
       "      <td>405.000000</td>\n",
       "      <td>405.000000</td>\n",
       "    </tr>\n",
       "    <tr>\n",
       "      <th>mean</th>\n",
       "      <td>1.184677</td>\n",
       "      <td>13.551852</td>\n",
       "      <td>8.970741</td>\n",
       "      <td>0.146770</td>\n",
       "      <td>1.121443</td>\n",
       "      <td>16.046121</td>\n",
       "      <td>58.567469</td>\n",
       "      <td>6.281575</td>\n",
       "      <td>80.681481</td>\n",
       "      <td>332.244444</td>\n",
       "      <td>44.583704</td>\n",
       "      <td>331.242593</td>\n",
       "      <td>11.315679</td>\n",
       "    </tr>\n",
       "    <tr>\n",
       "      <th>std</th>\n",
       "      <td>2.269786</td>\n",
       "      <td>22.824183</td>\n",
       "      <td>7.152428</td>\n",
       "      <td>0.318411</td>\n",
       "      <td>1.664850</td>\n",
       "      <td>27.653800</td>\n",
       "      <td>33.314434</td>\n",
       "      <td>6.581553</td>\n",
       "      <td>207.310034</td>\n",
       "      <td>176.480243</td>\n",
       "      <td>91.608829</td>\n",
       "      <td>126.742588</td>\n",
       "      <td>6.038569</td>\n",
       "    </tr>\n",
       "    <tr>\n",
       "      <th>min</th>\n",
       "      <td>0.000000</td>\n",
       "      <td>0.000000</td>\n",
       "      <td>0.000000</td>\n",
       "      <td>0.000000</td>\n",
       "      <td>0.385000</td>\n",
       "      <td>4.004000</td>\n",
       "      <td>1.137000</td>\n",
       "      <td>1.129600</td>\n",
       "      <td>1.000000</td>\n",
       "      <td>20.200000</td>\n",
       "      <td>2.600000</td>\n",
       "      <td>0.320000</td>\n",
       "      <td>1.730000</td>\n",
       "    </tr>\n",
       "    <tr>\n",
       "      <th>25%</th>\n",
       "      <td>0.047410</td>\n",
       "      <td>0.000000</td>\n",
       "      <td>3.410000</td>\n",
       "      <td>0.000000</td>\n",
       "      <td>0.453000</td>\n",
       "      <td>5.963000</td>\n",
       "      <td>31.100000</td>\n",
       "      <td>2.425900</td>\n",
       "      <td>4.000000</td>\n",
       "      <td>252.000000</td>\n",
       "      <td>16.800000</td>\n",
       "      <td>364.310000</td>\n",
       "      <td>6.680000</td>\n",
       "    </tr>\n",
       "    <tr>\n",
       "      <th>50%</th>\n",
       "      <td>0.148660</td>\n",
       "      <td>0.000000</td>\n",
       "      <td>6.910000</td>\n",
       "      <td>0.000000</td>\n",
       "      <td>0.538000</td>\n",
       "      <td>6.333000</td>\n",
       "      <td>64.700000</td>\n",
       "      <td>3.917500</td>\n",
       "      <td>5.000000</td>\n",
       "      <td>307.000000</td>\n",
       "      <td>18.600000</td>\n",
       "      <td>390.430000</td>\n",
       "      <td>10.210000</td>\n",
       "    </tr>\n",
       "    <tr>\n",
       "      <th>75%</th>\n",
       "      <td>0.785700</td>\n",
       "      <td>20.000000</td>\n",
       "      <td>18.100000</td>\n",
       "      <td>0.000000</td>\n",
       "      <td>0.647000</td>\n",
       "      <td>6.982000</td>\n",
       "      <td>89.800000</td>\n",
       "      <td>6.465400</td>\n",
       "      <td>8.000000</td>\n",
       "      <td>403.000000</td>\n",
       "      <td>20.200000</td>\n",
       "      <td>395.430000</td>\n",
       "      <td>14.700000</td>\n",
       "    </tr>\n",
       "    <tr>\n",
       "      <th>max</th>\n",
       "      <td>9.966540</td>\n",
       "      <td>100.000000</td>\n",
       "      <td>27.740000</td>\n",
       "      <td>1.000000</td>\n",
       "      <td>6.968000</td>\n",
       "      <td>100.000000</td>\n",
       "      <td>100.000000</td>\n",
       "      <td>24.000000</td>\n",
       "      <td>666.000000</td>\n",
       "      <td>711.000000</td>\n",
       "      <td>396.900000</td>\n",
       "      <td>396.900000</td>\n",
       "      <td>34.410000</td>\n",
       "    </tr>\n",
       "  </tbody>\n",
       "</table>\n",
       "</div>"
      ],
      "text/plain": [
       "             CRIM          ZN       INDUS        CHAS         NOX          RM  \\\n",
       "count  405.000000  405.000000  405.000000  405.000000  405.000000  405.000000   \n",
       "mean     1.184677   13.551852    8.970741    0.146770    1.121443   16.046121   \n",
       "std      2.269786   22.824183    7.152428    0.318411    1.664850   27.653800   \n",
       "min      0.000000    0.000000    0.000000    0.000000    0.385000    4.004000   \n",
       "25%      0.047410    0.000000    3.410000    0.000000    0.453000    5.963000   \n",
       "50%      0.148660    0.000000    6.910000    0.000000    0.538000    6.333000   \n",
       "75%      0.785700   20.000000   18.100000    0.000000    0.647000    6.982000   \n",
       "max      9.966540  100.000000   27.740000    1.000000    6.968000  100.000000   \n",
       "\n",
       "              AGE         DIS         RAD         TAX     PTRATIO           B  \\\n",
       "count  405.000000  405.000000  405.000000  405.000000  405.000000  405.000000   \n",
       "mean    58.567469    6.281575   80.681481  332.244444   44.583704  331.242593   \n",
       "std     33.314434    6.581553  207.310034  176.480243   91.608829  126.742588   \n",
       "min      1.137000    1.129600    1.000000   20.200000    2.600000    0.320000   \n",
       "25%     31.100000    2.425900    4.000000  252.000000   16.800000  364.310000   \n",
       "50%     64.700000    3.917500    5.000000  307.000000   18.600000  390.430000   \n",
       "75%     89.800000    6.465400    8.000000  403.000000   20.200000  395.430000   \n",
       "max    100.000000   24.000000  666.000000  711.000000  396.900000  396.900000   \n",
       "\n",
       "            LSTAT  \n",
       "count  405.000000  \n",
       "mean    11.315679  \n",
       "std      6.038569  \n",
       "min      1.730000  \n",
       "25%      6.680000  \n",
       "50%     10.210000  \n",
       "75%     14.700000  \n",
       "max     34.410000  "
      ]
     },
     "execution_count": 42,
     "metadata": {},
     "output_type": "execute_result"
    }
   ],
   "source": [
    "housing_tr.describe()"
   ]
  },
  {
   "cell_type": "markdown",
   "id": "7127f2a5",
   "metadata": {},
   "source": [
    "## Scikit-learn Design"
   ]
  },
  {
   "cell_type": "markdown",
   "id": "ea80470f",
   "metadata": {},
   "source": [
    "primary , three type of object\n",
    "1. Estimators - it estimetes some parameter based on a dataset eg- imputer \n",
    "its has a fit method and transform method \n",
    "fit method -  fits the dataset calculate internal parameters\n",
    "\n",
    "2. transformers\n",
    "3. predictor"
   ]
  },
  {
   "cell_type": "markdown",
   "id": "126c6744",
   "metadata": {},
   "source": [
    "## Feature Scaling"
   ]
  },
  {
   "cell_type": "markdown",
   "id": "a53b3c0a",
   "metadata": {},
   "source": [
    "primarly, two types of feature scaling methods:\n",
    "1. Min-max scalinf(Normalization)\n",
    "    (value-min)/(max-min)\n",
    "2. Standardization\n",
    "    (value - min)/std"
   ]
  },
  {
   "cell_type": "markdown",
   "id": "76fa9bda",
   "metadata": {},
   "source": [
    "## Creating a Pipeline"
   ]
  },
  {
   "cell_type": "code",
   "execution_count": 43,
   "id": "20835f48",
   "metadata": {},
   "outputs": [],
   "source": [
    "from sklearn.pipeline import Pipeline\n",
    "from sklearn.preprocessing import StandardScaler\n",
    "my_pipeline = Pipeline([\n",
    "    ('imputer' , SimpleImputer(strategy = \"median\")),\n",
    "    (\"std_scaler\", StandardScaler()),\n",
    "    \n",
    "])\n"
   ]
  },
  {
   "cell_type": "code",
   "execution_count": 44,
   "id": "0a82cef4",
   "metadata": {},
   "outputs": [],
   "source": [
    "housing_num_tr = my_pipeline.fit_transform(housing)"
   ]
  },
  {
   "cell_type": "code",
   "execution_count": 45,
   "id": "78a482b1",
   "metadata": {},
   "outputs": [
    {
     "data": {
      "text/plain": [
       "array([[-0.52257909,  0.19951529, -1.2557745 , ...,  2.14148181,\n",
       "        -2.42880372, -0.08550318],\n",
       "       [-0.24582785, -0.59448408, -0.11629174, ..., -0.25775762,\n",
       "         0.50856649, -0.47183345],\n",
       "       [-0.50729004,  0.94087382, -0.40746178, ..., -0.30256848,\n",
       "         0.24495128, -0.57794992],\n",
       "       ...,\n",
       "       [-0.51595795,  2.9149054 , -0.97440345, ..., -0.30147554,\n",
       "         0.47159558, -0.88303477],\n",
       "       [-0.52257909,  0.19951529, -1.2557745 , ...,  0.71332667,\n",
       "        -2.4329116 ,  0.34559497],\n",
       "       [-0.42166958, -0.59448408, -0.05749779, ..., -0.25885056,\n",
       "        -2.05743569, -0.11369037]])"
      ]
     },
     "execution_count": 45,
     "metadata": {},
     "output_type": "execute_result"
    }
   ],
   "source": [
    "housing_num_tr"
   ]
  },
  {
   "cell_type": "code",
   "execution_count": 46,
   "id": "295c5b1c",
   "metadata": {},
   "outputs": [
    {
     "data": {
      "text/plain": [
       "(405, 13)"
      ]
     },
     "execution_count": 46,
     "metadata": {},
     "output_type": "execute_result"
    }
   ],
   "source": [
    "housing_num_tr.shape"
   ]
  },
  {
   "cell_type": "markdown",
   "id": "68ffcc88",
   "metadata": {},
   "source": [
    "## Selecting a desired model for yourSReal estate"
   ]
  },
  {
   "cell_type": "code",
   "execution_count": 47,
   "id": "0ebdd57a",
   "metadata": {},
   "outputs": [
    {
     "data": {
      "text/html": [
       "<style>#sk-container-id-2 {color: black;background-color: white;}#sk-container-id-2 pre{padding: 0;}#sk-container-id-2 div.sk-toggleable {background-color: white;}#sk-container-id-2 label.sk-toggleable__label {cursor: pointer;display: block;width: 100%;margin-bottom: 0;padding: 0.3em;box-sizing: border-box;text-align: center;}#sk-container-id-2 label.sk-toggleable__label-arrow:before {content: \"▸\";float: left;margin-right: 0.25em;color: #696969;}#sk-container-id-2 label.sk-toggleable__label-arrow:hover:before {color: black;}#sk-container-id-2 div.sk-estimator:hover label.sk-toggleable__label-arrow:before {color: black;}#sk-container-id-2 div.sk-toggleable__content {max-height: 0;max-width: 0;overflow: hidden;text-align: left;background-color: #f0f8ff;}#sk-container-id-2 div.sk-toggleable__content pre {margin: 0.2em;color: black;border-radius: 0.25em;background-color: #f0f8ff;}#sk-container-id-2 input.sk-toggleable__control:checked~div.sk-toggleable__content {max-height: 200px;max-width: 100%;overflow: auto;}#sk-container-id-2 input.sk-toggleable__control:checked~label.sk-toggleable__label-arrow:before {content: \"▾\";}#sk-container-id-2 div.sk-estimator input.sk-toggleable__control:checked~label.sk-toggleable__label {background-color: #d4ebff;}#sk-container-id-2 div.sk-label input.sk-toggleable__control:checked~label.sk-toggleable__label {background-color: #d4ebff;}#sk-container-id-2 input.sk-hidden--visually {border: 0;clip: rect(1px 1px 1px 1px);clip: rect(1px, 1px, 1px, 1px);height: 1px;margin: -1px;overflow: hidden;padding: 0;position: absolute;width: 1px;}#sk-container-id-2 div.sk-estimator {font-family: monospace;background-color: #f0f8ff;border: 1px dotted black;border-radius: 0.25em;box-sizing: border-box;margin-bottom: 0.5em;}#sk-container-id-2 div.sk-estimator:hover {background-color: #d4ebff;}#sk-container-id-2 div.sk-parallel-item::after {content: \"\";width: 100%;border-bottom: 1px solid gray;flex-grow: 1;}#sk-container-id-2 div.sk-label:hover label.sk-toggleable__label {background-color: #d4ebff;}#sk-container-id-2 div.sk-serial::before {content: \"\";position: absolute;border-left: 1px solid gray;box-sizing: border-box;top: 0;bottom: 0;left: 50%;z-index: 0;}#sk-container-id-2 div.sk-serial {display: flex;flex-direction: column;align-items: center;background-color: white;padding-right: 0.2em;padding-left: 0.2em;position: relative;}#sk-container-id-2 div.sk-item {position: relative;z-index: 1;}#sk-container-id-2 div.sk-parallel {display: flex;align-items: stretch;justify-content: center;background-color: white;position: relative;}#sk-container-id-2 div.sk-item::before, #sk-container-id-2 div.sk-parallel-item::before {content: \"\";position: absolute;border-left: 1px solid gray;box-sizing: border-box;top: 0;bottom: 0;left: 50%;z-index: -1;}#sk-container-id-2 div.sk-parallel-item {display: flex;flex-direction: column;z-index: 1;position: relative;background-color: white;}#sk-container-id-2 div.sk-parallel-item:first-child::after {align-self: flex-end;width: 50%;}#sk-container-id-2 div.sk-parallel-item:last-child::after {align-self: flex-start;width: 50%;}#sk-container-id-2 div.sk-parallel-item:only-child::after {width: 0;}#sk-container-id-2 div.sk-dashed-wrapped {border: 1px dashed gray;margin: 0 0.4em 0.5em 0.4em;box-sizing: border-box;padding-bottom: 0.4em;background-color: white;}#sk-container-id-2 div.sk-label label {font-family: monospace;font-weight: bold;display: inline-block;line-height: 1.2em;}#sk-container-id-2 div.sk-label-container {text-align: center;}#sk-container-id-2 div.sk-container {/* jupyter's `normalize.less` sets `[hidden] { display: none; }` but bootstrap.min.css set `[hidden] { display: none !important; }` so we also need the `!important` here to be able to override the default hidden behavior on the sphinx rendered scikit-learn.org. See: https://github.com/scikit-learn/scikit-learn/issues/21755 */display: inline-block !important;position: relative;}#sk-container-id-2 div.sk-text-repr-fallback {display: none;}</style><div id=\"sk-container-id-2\" class=\"sk-top-container\"><div class=\"sk-text-repr-fallback\"><pre>RandomForestRegressor()</pre><b>In a Jupyter environment, please rerun this cell to show the HTML representation or trust the notebook. <br />On GitHub, the HTML representation is unable to render, please try loading this page with nbviewer.org.</b></div><div class=\"sk-container\" hidden><div class=\"sk-item\"><div class=\"sk-estimator sk-toggleable\"><input class=\"sk-toggleable__control sk-hidden--visually\" id=\"sk-estimator-id-2\" type=\"checkbox\" checked><label for=\"sk-estimator-id-2\" class=\"sk-toggleable__label sk-toggleable__label-arrow\">RandomForestRegressor</label><div class=\"sk-toggleable__content\"><pre>RandomForestRegressor()</pre></div></div></div></div></div>"
      ],
      "text/plain": [
       "RandomForestRegressor()"
      ]
     },
     "execution_count": 47,
     "metadata": {},
     "output_type": "execute_result"
    }
   ],
   "source": [
    "from sklearn.linear_model import LinearRegression\n",
    "from sklearn.tree import DecisionTreeRegressor\n",
    "from sklearn.ensemble import RandomForestRegressor\n",
    "#model = LinearRegression()\n",
    "#model = DecisionTreeRegressor()\n",
    "model = RandomForestRegressor()\n",
    "model.fit(housing_num_tr, housing_lables)"
   ]
  },
  {
   "cell_type": "code",
   "execution_count": 48,
   "id": "0d07918a",
   "metadata": {},
   "outputs": [],
   "source": [
    "some_data = housing.iloc[:5]"
   ]
  },
  {
   "cell_type": "code",
   "execution_count": 49,
   "id": "911dd384",
   "metadata": {},
   "outputs": [],
   "source": [
    "some_lables = housing_lables.iloc[:5]"
   ]
  },
  {
   "cell_type": "code",
   "execution_count": 50,
   "id": "cb2146e4",
   "metadata": {},
   "outputs": [],
   "source": [
    "prepared_data = my_pipeline.transform(some_data)"
   ]
  },
  {
   "cell_type": "code",
   "execution_count": 51,
   "id": "836d62a6",
   "metadata": {},
   "outputs": [
    {
     "data": {
      "text/plain": [
       "array([15.48 , 19.951, 20.12 , 14.638, 18.613])"
      ]
     },
     "execution_count": 51,
     "metadata": {},
     "output_type": "execute_result"
    }
   ],
   "source": [
    "model.predict(prepared_data)"
   ]
  },
  {
   "cell_type": "code",
   "execution_count": 52,
   "id": "7b809019",
   "metadata": {},
   "outputs": [
    {
     "data": {
      "text/plain": [
       "[15.4, 19.9, 19.4, 15.1, 18.2]"
      ]
     },
     "execution_count": 52,
     "metadata": {},
     "output_type": "execute_result"
    }
   ],
   "source": [
    "list(some_lables)"
   ]
  },
  {
   "cell_type": "markdown",
   "id": "10fe8252",
   "metadata": {},
   "source": [
    "## evaluating the model "
   ]
  },
  {
   "cell_type": "code",
   "execution_count": 53,
   "id": "e26cd7f5",
   "metadata": {},
   "outputs": [],
   "source": [
    "from sklearn.metrics import mean_squared_error\n",
    "housing_prediction = model.predict(housing_num_tr)\n",
    "mse = mean_squared_error(housing_lables,housing_prediction)\n",
    "rmse = np.sqrt(mse)"
   ]
  },
  {
   "cell_type": "code",
   "execution_count": 54,
   "id": "42630566",
   "metadata": {},
   "outputs": [
    {
     "data": {
      "text/plain": [
       "1.6372058340996318"
      ]
     },
     "execution_count": 54,
     "metadata": {},
     "output_type": "execute_result"
    }
   ],
   "source": [
    "rmse"
   ]
  },
  {
   "cell_type": "markdown",
   "id": "a32dad81",
   "metadata": {},
   "source": [
    "## using better evaluation technique - Cross Validation"
   ]
  },
  {
   "cell_type": "code",
   "execution_count": 55,
   "id": "814ad13d",
   "metadata": {},
   "outputs": [],
   "source": [
    "from sklearn.model_selection import cross_val_score\n",
    "scores = cross_val_score(model, housing_num_tr,housing_lables, scoring=\"neg_mean_squared_error\", cv=10)\n",
    "rmse_scores = np.sqrt(-scores)"
   ]
  },
  {
   "cell_type": "code",
   "execution_count": 56,
   "id": "b002d051",
   "metadata": {},
   "outputs": [
    {
     "data": {
      "text/plain": [
       "array([2.88797844, 5.77944215, 2.81114027, 4.27622471, 3.52991245,\n",
       "       6.6172698 , 3.56832889, 2.7937234 , 2.68933987, 5.80336988])"
      ]
     },
     "execution_count": 56,
     "metadata": {},
     "output_type": "execute_result"
    }
   ],
   "source": [
    "rmse_scores"
   ]
  },
  {
   "cell_type": "code",
   "execution_count": 57,
   "id": "ad3355e4",
   "metadata": {},
   "outputs": [],
   "source": [
    "def print_scores(scores):\n",
    "    print(\"Scores:\", scores)\n",
    "    print(\"Mean:\", scores.mean())\n",
    "    print(\"Standrad_deviation:\", scores.std())\n",
    "    "
   ]
  },
  {
   "cell_type": "code",
   "execution_count": 58,
   "id": "b37c8bf9",
   "metadata": {},
   "outputs": [
    {
     "name": "stdout",
     "output_type": "stream",
     "text": [
      "Scores: [2.88797844 5.77944215 2.81114027 4.27622471 3.52991245 6.6172698\n",
      " 3.56832889 2.7937234  2.68933987 5.80336988]\n",
      "Mean: 4.0756729872979145\n",
      "Standrad_deviation: 1.397065834059177\n"
     ]
    }
   ],
   "source": [
    "print_scores(rmse_scores)"
   ]
  },
  {
   "cell_type": "markdown",
   "id": "9257f812",
   "metadata": {},
   "source": [
    "## saving the mode"
   ]
  },
  {
   "cell_type": "code",
   "execution_count": 59,
   "id": "e2548bf0",
   "metadata": {},
   "outputs": [
    {
     "data": {
      "text/plain": [
       "['yoursReal.joblib']"
      ]
     },
     "execution_count": 59,
     "metadata": {},
     "output_type": "execute_result"
    }
   ],
   "source": [
    "from joblib import dump,load\n",
    "dump(model,'yoursReal.joblib')"
   ]
  },
  {
   "cell_type": "markdown",
   "id": "7f704f00",
   "metadata": {},
   "source": [
    "## Testing the model on test data"
   ]
  },
  {
   "cell_type": "code",
   "execution_count": 63,
   "id": "5f497729",
   "metadata": {},
   "outputs": [
    {
     "name": "stdout",
     "output_type": "stream",
     "text": [
      "[23.013 31.922 19.879 23.806 16.54  21.471 19.031 15.603 20.202 21.624\n",
      " 19.935 19.463 12.163 21.774 19.814 16.26  18.988 17.148 44.973 14.425\n",
      " 24.935 23.874 15.664 16.399 16.732 15.56  21.381 14.692 19.935 21.764\n",
      " 19.991 23.262 25.9   19.528 16.409 15.636 36.772 19.237 21.112 24.323\n",
      " 20.667 29.292 45.485 19.36  22.605 16.077 15.292 24.529 20.69  26.996\n",
      " 21.503 34.991 17.029 25.216 46.337 19.372 16.55  33.665 22.591 19.498\n",
      " 19.486 34.198 33.679 17.883 26.11  17.331 14.293 23.154 29.43  14.961\n",
      " 20.168 15.304 15.437 20.947 21.976 13.772 19.921 45.641 12.433 11.9\n",
      " 21.129 17.654 20.367 16.69  20.217 26.879 19.585 23.156 23.376 17.654\n",
      " 22.288 12.67  18.478 19.154 20.372 19.066 36.343 28.087 16.679 16.557\n",
      " 20.746 24.136] [23.6, 32.4, 20.1, 22.8, 17.8, 20.0, 17.8, 14.0, 23.2, 22.4, 21.5, 18.9, 17.2, 21.2, 18.5, 13.8, 18.8, 11.7, 50.0, 13.0, 25.2, 29.1, 12.7, 20.6, 14.2, 14.9, 20.3, 14.1, 21.7, 21.2, 23.1, 23.8, 50.0, 20.8, 19.1, 19.4, 34.7, 19.5, 24.4, 23.4, 18.3, 28.2, 50.0, 17.4, 22.6, 23.2, 13.1, 24.2, 19.6, 24.0, 18.9, 35.4, 15.2, 26.5, 43.5, 19.1, 16.7, 28.5, 23.9, 18.5, 25.0, 35.4, 31.5, 20.2, 24.1, 20.0, 12.5, 24.8, 30.8, 13.5, 20.0, 17.2, 16.4, 20.6, 20.8, 6.3, 20.1, 48.5, 11.3, 8.1, 20.9, 17.2, 20.9, 13.8, 19.4, 29.0, 17.7, 25.0, 25.0, 17.1, 23.2, 12.1, 19.6, 17.2, 27.5, 23.0, 50.0, 25.0, 14.3, 17.2, 22.5, 21.4]\n"
     ]
    }
   ],
   "source": [
    "X_test = strat_test_set.drop(\"MEDV\", axis=1)\n",
    "Y_test = strat_test_set[\"MEDV\"].copy()\n",
    "X_test_prepared = my_pipeline.transform(X_test)\n",
    "final_predictions = model.predict(X_test_prepared)\n",
    "final_mse = mean_squared_error(Y_test, final_predictions)\n",
    "final_rmse = np.sqrt(final_mse)\n",
    "print(final_predictions, list(Y_test))"
   ]
  },
  {
   "cell_type": "code",
   "execution_count": 62,
   "id": "e2f493f9",
   "metadata": {},
   "outputs": [
    {
     "data": {
      "text/plain": [
       "3.720760964757444"
      ]
     },
     "execution_count": 62,
     "metadata": {},
     "output_type": "execute_result"
    }
   ],
   "source": [
    "final_rmse"
   ]
  },
  {
   "cell_type": "code",
   "execution_count": 65,
   "id": "4efaa5d8",
   "metadata": {},
   "outputs": [
    {
     "data": {
      "text/plain": [
       "array([-0.52257909,  0.19951529, -1.2557745 ,  1.86539887,  2.84614798,\n",
       "        2.91654354, -1.7032246 ,  2.695464  ,  2.82688909, -1.77034207,\n",
       "        2.14148181, -2.42880372, -0.08550318])"
      ]
     },
     "execution_count": 65,
     "metadata": {},
     "output_type": "execute_result"
    }
   ],
   "source": [
    "prepared_data[0]"
   ]
  }
 ],
 "metadata": {
  "kernelspec": {
   "display_name": "Python 3 (ipykernel)",
   "language": "python",
   "name": "python3"
  },
  "language_info": {
   "codemirror_mode": {
    "name": "ipython",
    "version": 3
   },
   "file_extension": ".py",
   "mimetype": "text/x-python",
   "name": "python",
   "nbconvert_exporter": "python",
   "pygments_lexer": "ipython3",
   "version": "3.9.1"
  }
 },
 "nbformat": 4,
 "nbformat_minor": 5
}
