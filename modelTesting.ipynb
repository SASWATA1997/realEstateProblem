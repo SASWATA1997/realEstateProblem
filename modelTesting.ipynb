{
 "cells": [
  {
   "cell_type": "code",
   "execution_count": 1,
   "id": "274ddb4c",
   "metadata": {},
   "outputs": [],
   "source": [
    "from joblib import dump,load\n",
    "import numpy as np \n",
    "model = load(\"yoursReal.joblib\")"
   ]
  },
  {
   "cell_type": "code",
   "execution_count": 2,
   "id": "673c66ea",
   "metadata": {},
   "outputs": [
    {
     "name": "stdout",
     "output_type": "stream",
     "text": [
      "price predict: [14.86]\n"
     ]
    }
   ],
   "source": [
    "features = np.array([[-0.52257909,  0.19951529, -1.2557745 ,  1.86539887,  2.84614798,\n",
    "        2.81654354, -1.7032246 ,  2.695464  ,  2.82688909, -1.77034207,\n",
    "        2.14148181, -2.42880372, -0.08550318]])\n",
    "print(\"price predict:\",str(model.predict(features)))"
   ]
  },
  {
   "cell_type": "code",
   "execution_count": null,
   "id": "f545326e",
   "metadata": {},
   "outputs": [],
   "source": []
  }
 ],
 "metadata": {
  "kernelspec": {
   "display_name": "Python 3 (ipykernel)",
   "language": "python",
   "name": "python3"
  },
  "language_info": {
   "codemirror_mode": {
    "name": "ipython",
    "version": 3
   },
   "file_extension": ".py",
   "mimetype": "text/x-python",
   "name": "python",
   "nbconvert_exporter": "python",
   "pygments_lexer": "ipython3",
   "version": "3.9.1"
  }
 },
 "nbformat": 4,
 "nbformat_minor": 5
}
